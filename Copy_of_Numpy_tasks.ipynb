{
  "cells": [
    {
      "cell_type": "markdown",
      "metadata": {
        "id": "view-in-github",
        "colab_type": "text"
      },
      "source": [
        "<a href=\"https://colab.research.google.com/github/Rengaviky/Assignment-0-/blob/main/Copy_of_Numpy_tasks.ipynb\" target=\"_parent\"><img src=\"https://colab.research.google.com/assets/colab-badge.svg\" alt=\"Open In Colab\"/></a>"
      ]
    },
    {
      "cell_type": "markdown",
      "metadata": {
        "id": "UkJYS0sgRD1_"
      },
      "source": [
        "# Numpy\n",
        "\n"
      ]
    },
    {
      "cell_type": "markdown",
      "metadata": {
        "id": "kZ7ep3SDRD2G"
      },
      "source": [
        "#### 1. Import the numpy package under the name `np` (★☆☆) \n",
        "(**hint**: import … as …)"
      ]
    },
    {
      "cell_type": "code",
      "execution_count": 2,
      "metadata": {
        "collapsed": true,
        "id": "C1T1iAJuRD2I"
      },
      "outputs": [],
      "source": [
        "import numpy as np"
      ]
    },
    {
      "cell_type": "markdown",
      "metadata": {
        "id": "jI_vdmXFRD2J"
      },
      "source": [
        "#### 2. Print the numpy version and the configuration (★☆☆) \n",
        "(**hint**: np.\\_\\_version\\_\\_, np.show\\_config)"
      ]
    },
    {
      "cell_type": "code",
      "execution_count": null,
      "metadata": {
        "id": "U2zWKtiuRD2K",
        "outputId": "abce8cd0-971a-4b82-d2aa-b7cf25c7d4d4",
        "colab": {
          "base_uri": "https://localhost:8080/"
        }
      },
      "outputs": [
        {
          "output_type": "stream",
          "name": "stdout",
          "text": [
            "1.21.6\n",
            "blas_mkl_info:\n",
            "  NOT AVAILABLE\n",
            "blis_info:\n",
            "  NOT AVAILABLE\n",
            "openblas_info:\n",
            "    libraries = ['openblas', 'openblas']\n",
            "    library_dirs = ['/usr/local/lib']\n",
            "    language = c\n",
            "    define_macros = [('HAVE_CBLAS', None)]\n",
            "    runtime_library_dirs = ['/usr/local/lib']\n",
            "blas_opt_info:\n",
            "    libraries = ['openblas', 'openblas']\n",
            "    library_dirs = ['/usr/local/lib']\n",
            "    language = c\n",
            "    define_macros = [('HAVE_CBLAS', None)]\n",
            "    runtime_library_dirs = ['/usr/local/lib']\n",
            "lapack_mkl_info:\n",
            "  NOT AVAILABLE\n",
            "openblas_lapack_info:\n",
            "    libraries = ['openblas', 'openblas']\n",
            "    library_dirs = ['/usr/local/lib']\n",
            "    language = c\n",
            "    define_macros = [('HAVE_CBLAS', None)]\n",
            "    runtime_library_dirs = ['/usr/local/lib']\n",
            "lapack_opt_info:\n",
            "    libraries = ['openblas', 'openblas']\n",
            "    library_dirs = ['/usr/local/lib']\n",
            "    language = c\n",
            "    define_macros = [('HAVE_CBLAS', None)]\n",
            "    runtime_library_dirs = ['/usr/local/lib']\n",
            "Supported SIMD extensions in this NumPy install:\n",
            "    baseline = SSE,SSE2,SSE3\n",
            "    found = SSSE3,SSE41,POPCNT,SSE42,AVX,F16C,FMA3,AVX2\n",
            "    not found = AVX512F,AVX512CD,AVX512_KNL,AVX512_KNM,AVX512_SKX,AVX512_CLX,AVX512_CNL,AVX512_ICL\n",
            "None\n"
          ]
        }
      ],
      "source": [
        "print(np.__version__)\n",
        "print(np.show_config())"
      ]
    },
    {
      "cell_type": "markdown",
      "metadata": {
        "id": "g58J9S-tRD2L"
      },
      "source": [
        "#### 3. Create a null vector of size 10 (★☆☆) \n",
        "(**hint**: np.zeros)"
      ]
    },
    {
      "cell_type": "code",
      "execution_count": null,
      "metadata": {
        "id": "ZXWVv2lJRD2M",
        "outputId": "b2bdfa38-b474-4942-a283-d7ebbfa10255",
        "colab": {
          "base_uri": "https://localhost:8080/"
        }
      },
      "outputs": [
        {
          "output_type": "stream",
          "name": "stdout",
          "text": [
            "[0. 0. 0. 0. 0. 0. 0. 0. 0. 0.]\n"
          ]
        }
      ],
      "source": [
        "x=np.zeros(10)\n",
        "print(x)"
      ]
    },
    {
      "cell_type": "markdown",
      "metadata": {
        "id": "AL5Jq8SCRD2N"
      },
      "source": [
        "#### 4.  How to find the memory size of any array (★☆☆) \n",
        "(**hint**: size, itemsize)"
      ]
    },
    {
      "cell_type": "code",
      "execution_count": null,
      "metadata": {
        "id": "kZW_xwx5RD2P",
        "outputId": "43b97085-e36a-46e1-cfa3-ef7fb6dc37b4",
        "colab": {
          "base_uri": "https://localhost:8080/"
        }
      },
      "outputs": [
        {
          "output_type": "stream",
          "name": "stdout",
          "text": [
            "800 bytes\n"
          ]
        }
      ],
      "source": [
        "x = np.zeros((10,10))\n",
        "print(\"%d bytes\" % (x.size * x.itemsize))"
      ]
    },
    {
      "cell_type": "markdown",
      "metadata": {
        "id": "fltqaFKrRD2P"
      },
      "source": [
        "#### 5.  How to get the documentation of the numpy add function from the command line? (★☆☆) \n",
        "(**hint**: np.info)"
      ]
    },
    {
      "cell_type": "code",
      "execution_count": null,
      "metadata": {
        "collapsed": true,
        "id": "W4vqJ07fRD2Q",
        "outputId": "8de9f093-7f09-4201-daed-80a3dda1a5b8",
        "colab": {
          "base_uri": "https://localhost:8080/"
        }
      },
      "outputs": [
        {
          "output_type": "stream",
          "name": "stdout",
          "text": [
            "add(x1, x2, /, out=None, *, where=True, casting='same_kind', order='K', dtype=None, subok=True[, signature, extobj])\n",
            "\n",
            "Add arguments element-wise.\n",
            "\n",
            "Parameters\n",
            "----------\n",
            "x1, x2 : array_like\n",
            "    The arrays to be added.\n",
            "    If ``x1.shape != x2.shape``, they must be broadcastable to a common\n",
            "    shape (which becomes the shape of the output).\n",
            "out : ndarray, None, or tuple of ndarray and None, optional\n",
            "    A location into which the result is stored. If provided, it must have\n",
            "    a shape that the inputs broadcast to. If not provided or None,\n",
            "    a freshly-allocated array is returned. A tuple (possible only as a\n",
            "    keyword argument) must have length equal to the number of outputs.\n",
            "where : array_like, optional\n",
            "    This condition is broadcast over the input. At locations where the\n",
            "    condition is True, the `out` array will be set to the ufunc result.\n",
            "    Elsewhere, the `out` array will retain its original value.\n",
            "    Note that if an uninitialized `out` array is created via the default\n",
            "    ``out=None``, locations within it where the condition is False will\n",
            "    remain uninitialized.\n",
            "**kwargs\n",
            "    For other keyword-only arguments, see the\n",
            "    :ref:`ufunc docs <ufuncs.kwargs>`.\n",
            "\n",
            "Returns\n",
            "-------\n",
            "add : ndarray or scalar\n",
            "    The sum of `x1` and `x2`, element-wise.\n",
            "    This is a scalar if both `x1` and `x2` are scalars.\n",
            "\n",
            "Notes\n",
            "-----\n",
            "Equivalent to `x1` + `x2` in terms of array broadcasting.\n",
            "\n",
            "Examples\n",
            "--------\n",
            ">>> np.add(1.0, 4.0)\n",
            "5.0\n",
            ">>> x1 = np.arange(9.0).reshape((3, 3))\n",
            ">>> x2 = np.arange(3.0)\n",
            ">>> np.add(x1, x2)\n",
            "array([[  0.,   2.,   4.],\n",
            "       [  3.,   5.,   7.],\n",
            "       [  6.,   8.,  10.]])\n",
            "\n",
            "The ``+`` operator can be used as a shorthand for ``np.add`` on ndarrays.\n",
            "\n",
            ">>> x1 = np.arange(9.0).reshape((3, 3))\n",
            ">>> x2 = np.arange(3.0)\n",
            ">>> x1 + x2\n",
            "array([[ 0.,  2.,  4.],\n",
            "       [ 3.,  5.,  7.],\n",
            "       [ 6.,  8., 10.]])\n",
            "None\n"
          ]
        }
      ],
      "source": [
        "print(np.info(np.add))"
      ]
    },
    {
      "cell_type": "markdown",
      "metadata": {
        "id": "LTGQ1lZ7RD2R"
      },
      "source": [
        "#### 6.  Create a null vector of size 10 but the fifth value which is 1 (★☆☆) \n",
        "(**hint**: array\\[4\\])"
      ]
    },
    {
      "cell_type": "code",
      "execution_count": null,
      "metadata": {
        "id": "kzHraqfoRD2R",
        "outputId": "03c21446-d41e-44fd-be37-3a0b63c1207d",
        "colab": {
          "base_uri": "https://localhost:8080/"
        }
      },
      "outputs": [
        {
          "output_type": "stream",
          "name": "stdout",
          "text": [
            "[0. 0. 0. 0. 1. 0. 0. 0. 0. 0.]\n"
          ]
        }
      ],
      "source": [
        "x=np.zeros(10)\n",
        "x[4]=1\n",
        "print(x)"
      ]
    },
    {
      "cell_type": "markdown",
      "metadata": {
        "id": "e752njRKRD2S"
      },
      "source": [
        "#### 7.  Create a vector with values ranging from 10 to 49 (★☆☆) \n",
        "(**hint**: np.arange)"
      ]
    },
    {
      "cell_type": "code",
      "execution_count": null,
      "metadata": {
        "id": "aa4Q-fcBRD2T",
        "outputId": "07cadd3a-12b3-4f58-804c-2ff9fb526e0b",
        "colab": {
          "base_uri": "https://localhost:8080/"
        }
      },
      "outputs": [
        {
          "output_type": "stream",
          "name": "stdout",
          "text": [
            "[10 11 12 13 14 15 16 17 18 19 20 21 22 23 24 25 26 27 28 29 30 31 32 33\n",
            " 34 35 36 37 38 39 40 41 42 43 44 45 46 47 48]\n"
          ]
        }
      ],
      "source": [
        "a=np.arange(10,49)\n",
        "print(a)"
      ]
    },
    {
      "cell_type": "markdown",
      "metadata": {
        "id": "W3tTT6jaRD2T"
      },
      "source": [
        "#### 8.  Reverse a vector (first element becomes last) (★☆☆) \n",
        "(**hint**: array\\[::-1\\])"
      ]
    },
    {
      "cell_type": "code",
      "execution_count": null,
      "metadata": {
        "id": "PBw7XMVqRD2U",
        "outputId": "4fb1e648-b780-4db7-8c02-e1a8967a42aa",
        "colab": {
          "base_uri": "https://localhost:8080/"
        }
      },
      "outputs": [
        {
          "output_type": "stream",
          "name": "stdout",
          "text": [
            "[48 47 46 45 44 43 42 41 40 39 38 37 36 35 34 33 32 31 30 29 28 27 26 25\n",
            " 24 23 22 21 20 19 18 17 16 15 14 13 12 11 10]\n"
          ]
        }
      ],
      "source": [
        "a=a[::-1]\n",
        "print(a)"
      ]
    },
    {
      "cell_type": "markdown",
      "metadata": {
        "id": "Hw2uyyJKRD2U"
      },
      "source": [
        "#### 9.  Create a 3x3 matrix with values ranging from 0 to 8 (★☆☆) \n",
        "(**hint**: reshape)"
      ]
    },
    {
      "cell_type": "code",
      "execution_count": null,
      "metadata": {
        "id": "t3kLvyAnRD2V",
        "outputId": "2ce8ed92-6654-4037-844d-d06b88cf41fd",
        "colab": {
          "base_uri": "https://localhost:8080/"
        }
      },
      "outputs": [
        {
          "output_type": "stream",
          "name": "stdout",
          "text": [
            "[[0 1 2]\n",
            " [3 4 5]\n",
            " [6 7 8]]\n"
          ]
        }
      ],
      "source": [
        "x =  np.arange(0, 9).reshape(3,3)\n",
        "print(x)"
      ]
    },
    {
      "cell_type": "markdown",
      "metadata": {
        "id": "F0ykatlgRD2V"
      },
      "source": [
        "#### 10. Find indices of non-zero elements from \\[1,2,0,0,4,0\\] (★☆☆) \n",
        "(**hint**: np.nonzero)"
      ]
    },
    {
      "cell_type": "code",
      "execution_count": null,
      "metadata": {
        "id": "lwaxADmZRD2W",
        "outputId": "97451230-9708-4ec1-a0b4-99c3f4829768",
        "colab": {
          "base_uri": "https://localhost:8080/"
        }
      },
      "outputs": [
        {
          "output_type": "stream",
          "name": "stdout",
          "text": [
            "(array([0, 1, 4]),)\n"
          ]
        }
      ],
      "source": [
        "a=[1,2,0,0,4,0]\n",
        "print(np.nonzero(a))"
      ]
    },
    {
      "cell_type": "markdown",
      "metadata": {
        "id": "k71ekHlXRD2W"
      },
      "source": [
        "#### 11. Create a 3x3 identity matrix (★☆☆) \n",
        "(**hint**: np.eye)"
      ]
    },
    {
      "cell_type": "code",
      "execution_count": null,
      "metadata": {
        "id": "9K8a7UkiRD2X",
        "outputId": "2a24449b-200d-467d-bb1d-f259495605f7",
        "colab": {
          "base_uri": "https://localhost:8080/"
        }
      },
      "outputs": [
        {
          "output_type": "stream",
          "name": "stdout",
          "text": [
            "[[1. 0. 0.]\n",
            " [0. 1. 0.]\n",
            " [0. 0. 1.]]\n"
          ]
        }
      ],
      "source": [
        "arr=np.eye(3)\n",
        "print(arr)"
      ]
    },
    {
      "cell_type": "markdown",
      "metadata": {
        "id": "jGubuhCWRD2X"
      },
      "source": [
        "#### 12. Create a 3x3x3 array with random values (★☆☆) \n",
        "(**hint**: np.random.random)"
      ]
    },
    {
      "cell_type": "code",
      "execution_count": null,
      "metadata": {
        "id": "S-QAjGdWRD2X",
        "outputId": "2a860876-1dbb-4cd4-ec08-79e0866f12cb",
        "colab": {
          "base_uri": "https://localhost:8080/"
        }
      },
      "outputs": [
        {
          "output_type": "stream",
          "name": "stdout",
          "text": [
            "[[[0.01536785 0.35800242 0.48248588]\n",
            "  [0.39797604 0.52744393 0.08869579]\n",
            "  [0.74712317 0.19952231 0.66721464]]\n",
            "\n",
            " [[0.89330759 0.04462583 0.68055664]\n",
            "  [0.08745392 0.77217007 0.21533624]\n",
            "  [0.8446703  0.22341881 0.1286661 ]]\n",
            "\n",
            " [[0.50113336 0.43965027 0.90265863]\n",
            "  [0.53626769 0.92267378 0.2566358 ]\n",
            "  [0.95477218 0.45327918 0.35288813]]]\n"
          ]
        }
      ],
      "source": [
        "arr=np.random.random((3,3,3))\n",
        "print(arr)"
      ]
    },
    {
      "cell_type": "markdown",
      "metadata": {
        "id": "HC_anmUYRD2Y"
      },
      "source": [
        "#### 13. Create a 10x10 array with random values and find the minimum and maximum values (★☆☆) \n",
        "(**hint**: min, max)"
      ]
    },
    {
      "cell_type": "code",
      "execution_count": null,
      "metadata": {
        "id": "w93JzDuhRD2Y",
        "outputId": "dfbcd8e8-96a2-4347-9f30-2516c711e360",
        "colab": {
          "base_uri": "https://localhost:8080/"
        }
      },
      "outputs": [
        {
          "output_type": "stream",
          "name": "stdout",
          "text": [
            "0.0007198145281229751 0.9740748119952667\n"
          ]
        }
      ],
      "source": [
        "arr=np.random.random((10,10))\n",
        "arrmin,arrmax=arr.min(),arr.max()\n",
        "print(arrmin,arrmax)"
      ]
    },
    {
      "cell_type": "markdown",
      "metadata": {
        "id": "XsEC48McRD2Y"
      },
      "source": [
        "#### 14. Create a random vector of size 30 and find the mean value (★☆☆) \n",
        "(**hint**: mean)"
      ]
    },
    {
      "cell_type": "code",
      "execution_count": null,
      "metadata": {
        "id": "cXrEh4OlRD2Z",
        "outputId": "a50c85be-7496-4b72-a8c7-71a8adde415b",
        "colab": {
          "base_uri": "https://localhost:8080/"
        }
      },
      "outputs": [
        {
          "output_type": "stream",
          "name": "stdout",
          "text": [
            "0.5035677907076775\n"
          ]
        }
      ],
      "source": [
        "a=np.random.random(30)\n",
        "print(np.mean(a))"
      ]
    },
    {
      "cell_type": "markdown",
      "metadata": {
        "id": "OpfqFF0-RD2Z"
      },
      "source": [
        "#### 15. Create a 2d array with 1 on the border and 0 inside (★☆☆) \n",
        "(**hint**: array\\[1:-1, 1:-1\\])"
      ]
    },
    {
      "cell_type": "code",
      "execution_count": null,
      "metadata": {
        "id": "CinKqCuLRD2Z",
        "colab": {
          "base_uri": "https://localhost:8080/"
        },
        "outputId": "58626259-b2f3-4540-9013-8fa6d5378506"
      },
      "outputs": [
        {
          "output_type": "stream",
          "name": "stdout",
          "text": [
            "[[1. 1. 1. 1. 1.]\n",
            " [1. 0. 0. 0. 1.]\n",
            " [1. 0. 0. 0. 1.]\n",
            " [1. 0. 0. 0. 1.]\n",
            " [1. 1. 1. 1. 1.]]\n"
          ]
        }
      ],
      "source": [
        "x=np.ones((5,5))\n",
        "x[1:-1,1:-1] = 0\n",
        "print(x)\n"
      ]
    },
    {
      "cell_type": "markdown",
      "metadata": {
        "id": "Vk8Xx7SSRD2Z"
      },
      "source": [
        "#### 16. How to add a border (filled with 0's) around an existing array? (★☆☆) \n",
        "(**hint**: np.pad)"
      ]
    },
    {
      "cell_type": "code",
      "execution_count": null,
      "metadata": {
        "id": "abuhPDRXRD2a",
        "colab": {
          "base_uri": "https://localhost:8080/"
        },
        "outputId": "a615a46e-4256-46e4-c836-f14a44797d97"
      },
      "outputs": [
        {
          "output_type": "stream",
          "name": "stdout",
          "text": [
            "[[0. 0. 0. 0. 0.]\n",
            " [0. 1. 1. 1. 0.]\n",
            " [0. 1. 1. 1. 0.]\n",
            " [0. 1. 1. 1. 0.]\n",
            " [0. 0. 0. 0. 0.]]\n"
          ]
        }
      ],
      "source": [
        "x=np.ones((3,3))\n",
        "x=np.pad(x,pad_width=1,mode='constant',constant_values=0)\n",
        "print(x)"
      ]
    },
    {
      "cell_type": "markdown",
      "metadata": {
        "id": "Y1G8ezodRD2a"
      },
      "source": [
        "#### 17. What is the result of the following expression? (★☆☆) \n",
        "(**hint**: NaN = not a number, inf = infinity)"
      ]
    },
    {
      "cell_type": "markdown",
      "metadata": {
        "id": "AXp3NHfgRD2a"
      },
      "source": [
        "```python\n",
        "0 * np.nan\n",
        "np.nan == np.nan\n",
        "np.inf > np.nan\n",
        "np.nan - np.nan\n",
        "0.3 == 3 * 0.1\n",
        "```"
      ]
    },
    {
      "cell_type": "code",
      "execution_count": null,
      "metadata": {
        "id": "Ebl90Ni4RD2b",
        "colab": {
          "base_uri": "https://localhost:8080/"
        },
        "outputId": "80cffecd-372e-442f-c46d-303b787e11da"
      },
      "outputs": [
        {
          "output_type": "stream",
          "name": "stdout",
          "text": [
            "nan\n",
            "False\n",
            "False\n",
            "nan\n",
            "False\n"
          ]
        }
      ],
      "source": [
        "print(0 * np.nan)\n",
        "print(np.nan == np.nan)\n",
        "print(np.inf > np.nan)\n",
        "print(np.nan - np.nan)\n",
        "print(0.3 == 3 * 0.1)"
      ]
    },
    {
      "cell_type": "markdown",
      "metadata": {
        "id": "zTUIyKVuRD2b"
      },
      "source": [
        "#### 18. Create a 5x5 matrix with values 1,2,3,4 just below the diagonal (★☆☆) \n",
        "(**hint**: np.diag)"
      ]
    },
    {
      "cell_type": "code",
      "execution_count": null,
      "metadata": {
        "id": "swT6uSp1RD2c",
        "colab": {
          "base_uri": "https://localhost:8080/"
        },
        "outputId": "3f1a95b5-4bc6-4b5a-f38c-cba74514afb3"
      },
      "outputs": [
        {
          "output_type": "stream",
          "name": "stdout",
          "text": [
            "[[1 0 0 0 0]\n",
            " [0 2 0 0 0]\n",
            " [0 0 3 0 0]\n",
            " [0 0 0 4 0]\n",
            " [0 0 0 0 5]]\n"
          ]
        }
      ],
      "source": [
        "x = np.diag([1, 2, 3, 4, 5])\n",
        "print(x)"
      ]
    },
    {
      "cell_type": "markdown",
      "metadata": {
        "id": "xDQp6KDiRD2c"
      },
      "source": [
        "#### 19. Create a 8x8 matrix and fill it with a checkerboard pattern (★☆☆) \n",
        "(**hint**: array\\[::2\\])"
      ]
    },
    {
      "cell_type": "code",
      "execution_count": null,
      "metadata": {
        "id": "UJUWnUm_RD2c",
        "colab": {
          "base_uri": "https://localhost:8080/"
        },
        "outputId": "d21e68a1-0c32-458f-ce33-cc75ef610241"
      },
      "outputs": [
        {
          "output_type": "stream",
          "name": "stdout",
          "text": [
            "[[0 1 0 1 0 1 0 1]\n",
            " [0 0 0 0 0 0 0 0]\n",
            " [0 1 0 1 0 1 0 1]\n",
            " [0 0 0 0 0 0 0 0]\n",
            " [0 1 0 1 0 1 0 1]\n",
            " [0 0 0 0 0 0 0 0]\n",
            " [0 1 0 1 0 1 0 1]\n",
            " [0 0 0 0 0 0 0 0]]\n"
          ]
        }
      ],
      "source": [
        "x = np.zeros((8,8),dtype=int)\n",
        "x[::2,1::2] = 1\n",
        "print(x)"
      ]
    },
    {
      "cell_type": "markdown",
      "metadata": {
        "id": "eBjYrRFsRD2d"
      },
      "source": [
        "#### 20. Consider a (6,7,8) shape array, what is the index (x,y,z) of the 100th element? \n",
        "(**hint**: np.unravel_index)"
      ]
    },
    {
      "cell_type": "code",
      "execution_count": null,
      "metadata": {
        "id": "GW-mZprbRD2d",
        "colab": {
          "base_uri": "https://localhost:8080/"
        },
        "outputId": "793393ef-ee44-40ab-c4d4-69c4db56bd0f"
      },
      "outputs": [
        {
          "output_type": "stream",
          "name": "stdout",
          "text": [
            "(1, 5, 4)\n"
          ]
        }
      ],
      "source": [
        "x=np.zeros((6,7,8))\n",
        "print (np.unravel_index(100,(6,7,8)))"
      ]
    },
    {
      "cell_type": "markdown",
      "metadata": {
        "id": "9yKZMfwJRD2d"
      },
      "source": [
        "#### 21. Create a checkerboard 8x8 matrix using the tile function (★☆☆) \n",
        "(**hint**: np.tile)"
      ]
    },
    {
      "cell_type": "code",
      "execution_count": null,
      "metadata": {
        "id": "qZhAwj56RD2e",
        "colab": {
          "base_uri": "https://localhost:8080/"
        },
        "outputId": "67e514a4-a93b-4672-db18-fad90f3f1195"
      },
      "outputs": [
        {
          "output_type": "stream",
          "name": "stdout",
          "text": [
            "[[0 1 0 1 0 1 0 1]\n",
            " [1 0 1 0 1 0 1 0]\n",
            " [0 1 0 1 0 1 0 1]\n",
            " [1 0 1 0 1 0 1 0]\n",
            " [0 1 0 1 0 1 0 1]\n",
            " [1 0 1 0 1 0 1 0]\n",
            " [0 1 0 1 0 1 0 1]\n",
            " [1 0 1 0 1 0 1 0]]\n"
          ]
        }
      ],
      "source": [
        "x= np.array([[0,1], [1,0]])\n",
        "a= np.tile(x,(4,4))\n",
        "print(a)"
      ]
    },
    {
      "cell_type": "markdown",
      "metadata": {
        "id": "ZovxjRj2RD2e"
      },
      "source": [
        "#### 22. Normalize a 5x5 random matrix (★☆☆) \n",
        "(**hint**: (x - min) / (max - min))"
      ]
    },
    {
      "cell_type": "code",
      "execution_count": null,
      "metadata": {
        "id": "jQGe3aCURD2e",
        "colab": {
          "base_uri": "https://localhost:8080/"
        },
        "outputId": "79c39422-ad55-44d4-a7c4-0856be49b852"
      },
      "outputs": [
        {
          "output_type": "stream",
          "name": "stdout",
          "text": [
            "[[0.02125482 0.06372753 0.06940037 0.6014985  0.64820174]\n",
            " [0.16861063 0.63631884 0.11078135 0.01173967 0.20667273]\n",
            " [0.67171492 0.25362979 0.04008852 0.71222956 0.81413619]\n",
            " [0.88731102 0.11594172 0.17756798 0.5116378  0.58743532]\n",
            " [0.41785912 0.19722454 0.         0.55438668 1.        ]]\n"
          ]
        }
      ],
      "source": [
        "a= np.random.random((5,5))\n",
        "amax, amin = a.max(), a.min()\n",
        "a= (a-amin)/(amax-amin)\n",
        "print(a)"
      ]
    },
    {
      "cell_type": "markdown",
      "metadata": {
        "id": "GvuOu8s1RD2f"
      },
      "source": [
        "#### 23. Create a custom dtype that describes a color as four unsigned bytes (RGBA) (★☆☆) \n",
        "(**hint**: np.dtype)"
      ]
    },
    {
      "cell_type": "code",
      "execution_count": null,
      "metadata": {
        "collapsed": true,
        "id": "P1PpMt-mRD2f",
        "colab": {
          "base_uri": "https://localhost:8080/"
        },
        "outputId": "96e91ba9-3867-4f5a-b22f-7f18ba5583a5"
      },
      "outputs": [
        {
          "output_type": "stream",
          "name": "stdout",
          "text": [
            "[('r', 'u1'), ('g', 'u1'), ('b', 'u1'), ('a', 'u1')]\n"
          ]
        },
        {
          "output_type": "stream",
          "name": "stderr",
          "text": [
            "/usr/local/lib/python3.7/dist-packages/ipykernel_launcher.py:4: FutureWarning: Passing (type, 1) or '1type' as a synonym of type is deprecated; in a future version of numpy, it will be understood as (type, (1,)) / '(1,)type'.\n",
            "  after removing the cwd from sys.path.\n"
          ]
        }
      ],
      "source": [
        "color = np.dtype([(\"r\", np.ubyte, 1),\n",
        "                  (\"g\", np.ubyte, 1),\n",
        "                  (\"b\", np.ubyte, 1),\n",
        "                  (\"a\", np.ubyte, 1)])\n",
        "print(color)"
      ]
    },
    {
      "cell_type": "markdown",
      "metadata": {
        "id": "N0AbwP-9RD2f"
      },
      "source": [
        "#### 24. Multiply a 5x3 matrix by a 3x2 matrix (real matrix product) (★☆☆) \n",
        "(**hint**: np.dot | @)"
      ]
    },
    {
      "cell_type": "code",
      "execution_count": null,
      "metadata": {
        "id": "aIC2o1vPRD2f",
        "colab": {
          "base_uri": "https://localhost:8080/"
        },
        "outputId": "5cb9f419-63fd-42f0-866a-02e1d31277aa"
      },
      "outputs": [
        {
          "output_type": "stream",
          "name": "stdout",
          "text": [
            "[[ 0  1  2]\n",
            " [ 3  4  5]\n",
            " [ 6  7  8]\n",
            " [ 9 10 11]\n",
            " [12 13 14]]\n",
            "[[0 1]\n",
            " [2 3]\n",
            " [4 5]]\n"
          ]
        },
        {
          "output_type": "execute_result",
          "data": {
            "text/plain": [
              "array([[ 10,  13],\n",
              "       [ 28,  40],\n",
              "       [ 46,  67],\n",
              "       [ 64,  94],\n",
              "       [ 82, 121]])"
            ]
          },
          "metadata": {},
          "execution_count": 44
        }
      ],
      "source": [
        "x = np.arange(15).reshape((5, 3))\n",
        "print(x)\n",
        "y = np.arange(6).reshape((3, 2))\n",
        "print(y)\n",
        "np.dot(x, y)"
      ]
    },
    {
      "cell_type": "markdown",
      "metadata": {
        "id": "-UFu2t5dRD2g"
      },
      "source": [
        "#### 25. Given a 1D array, negate all elements which are between 3 and 8, in place. (★☆☆) \n",
        "(**hint**: >, <=)"
      ]
    },
    {
      "cell_type": "code",
      "execution_count": null,
      "metadata": {
        "id": "wKfFJkBzRD2g",
        "colab": {
          "base_uri": "https://localhost:8080/"
        },
        "outputId": "b7b7a020-52eb-4508-ea8a-d26c1c5024fd"
      },
      "outputs": [
        {
          "output_type": "stream",
          "name": "stdout",
          "text": [
            "[ 0  1  2 -1 -1 -1 -1 -1 -1  9 10]\n"
          ]
        }
      ],
      "source": [
        "x = np.arange(11)\n",
        "x[(x >= 3) & (x <= 8)] = -1\n",
        "print(x)"
      ]
    },
    {
      "cell_type": "markdown",
      "metadata": {
        "id": "mlgpfPXcRD2g"
      },
      "source": [
        "#### 26. What is the output of the following script? (★☆☆) \n",
        "(**hint**: np.sum)"
      ]
    },
    {
      "cell_type": "markdown",
      "metadata": {
        "id": "Txf1P9I2RD2h"
      },
      "source": [
        "```python\n",
        "# Author: Jake VanderPlas\n",
        "\n",
        "print(sum(range(5),-1))\n",
        "from numpy import *\n",
        "print(sum(range(5),-1))\n",
        "```"
      ]
    },
    {
      "cell_type": "code",
      "execution_count": null,
      "metadata": {
        "id": "G9gdXbBMRD2h",
        "colab": {
          "base_uri": "https://localhost:8080/"
        },
        "outputId": "9398f98c-aaf8-4540-d3d5-88f9d47cd9c9"
      },
      "outputs": [
        {
          "output_type": "stream",
          "name": "stdout",
          "text": [
            "9\n",
            "10\n"
          ]
        }
      ],
      "source": [
        "print(sum(range(5),-1))\n",
        "from numpy import *\n",
        "print(sum(range(5),-1))"
      ]
    },
    {
      "cell_type": "markdown",
      "metadata": {
        "id": "dOr11U_PRD2h"
      },
      "source": [
        "#### 27. Consider an integer vector Z, which of these expressions are legal? (★☆☆)"
      ]
    },
    {
      "cell_type": "markdown",
      "metadata": {
        "id": "ee9Y30FmRD2h"
      },
      "source": [
        "```python\n",
        "Z**Z\n",
        "2 << Z >> 2\n",
        "Z <- Z\n",
        "1j*Z\n",
        "Z/1/1\n",
        "Z<Z>Z\n",
        "```"
      ]
    },
    {
      "cell_type": "code",
      "execution_count": null,
      "metadata": {
        "id": "ugUflYrHRD2i",
        "colab": {
          "base_uri": "https://localhost:8080/"
        },
        "outputId": "e2561f44-5fbd-4b7f-d782-f879c8972fb2"
      },
      "outputs": [
        {
          "output_type": "stream",
          "name": "stdout",
          "text": [
            "[ 1  1  4 27]\n",
            "[0 1 2 4]\n",
            "[False False False False]\n",
            "[0.+0.j 0.+1.j 0.+2.j 0.+3.j]\n",
            "[0. 1. 2. 3.]\n"
          ]
        }
      ],
      "source": [
        "Z = np.arange(4)\n",
        "print(Z ** Z)       \n",
        "print(2 << Z >> 2)  \n",
        "print(Z < - Z)      \n",
        "print(1j * Z)       \n",
        "print(Z / 1 / 1)   \n",
        "#Z < Z > Z          # value error"
      ]
    },
    {
      "cell_type": "markdown",
      "metadata": {
        "id": "RGH5UkYHRD2i"
      },
      "source": [
        "#### 28. What are the result of the following expressions?"
      ]
    },
    {
      "cell_type": "markdown",
      "metadata": {
        "id": "1bNTMYYLRD2i"
      },
      "source": [
        "```python\n",
        "np.array(0) / np.array(0)\n",
        "np.array(0) // np.array(0)\n",
        "np.array([np.nan]).astype(int).astype(float)\n",
        "```"
      ]
    },
    {
      "cell_type": "code",
      "execution_count": null,
      "metadata": {
        "id": "xOXg45kDRD2j"
      },
      "outputs": [],
      "source": [
        "np.array(0) / np.array(0)        # invalid value encountered in true_divide\n",
        "np.array(0) // np.array(0)       # divide by zero encountered in floor_divide\n",
        "np.array([np.nan]).astype(int).astype(float)    # array([-9.22337204e+18])"
      ]
    },
    {
      "cell_type": "markdown",
      "metadata": {
        "id": "hlqXkhq4RD2j"
      },
      "source": [
        "#### 29. How to round away from zero a float array ? (★☆☆) \n",
        "(**hint**: np.uniform, np.copysign, np.ceil, np.abs)"
      ]
    },
    {
      "cell_type": "code",
      "execution_count": null,
      "metadata": {
        "id": "0XQwrOReRD2j",
        "colab": {
          "base_uri": "https://localhost:8080/"
        },
        "outputId": "c8c8f0a8-0192-46f6-e890-174eb42bcae6"
      },
      "outputs": [
        {
          "output_type": "stream",
          "name": "stdout",
          "text": [
            "[ 1.40609729  2.31121195  3.53338766 -2.68986991 -1.933547  ]\n"
          ]
        },
        {
          "output_type": "execute_result",
          "data": {
            "text/plain": [
              "array([ 2.,  3.,  4., -3., -2.])"
            ]
          },
          "metadata": {},
          "execution_count": 64
        }
      ],
      "source": [
        "x = np.random.uniform(-5, +5, 5)\n",
        "print(x)\n",
        "np.copysign(np.ceil(np.abs(x)), x)"
      ]
    },
    {
      "cell_type": "markdown",
      "metadata": {
        "id": "-EXmFarURD2j"
      },
      "source": [
        "#### 30. How to find common values between two arrays? (★☆☆) \n",
        "(**hint**: np.intersect1d)"
      ]
    },
    {
      "cell_type": "code",
      "execution_count": null,
      "metadata": {
        "id": "U4u1FREORD2k",
        "colab": {
          "base_uri": "https://localhost:8080/"
        },
        "outputId": "72a52987-ff05-422e-8b14-698d731d13b6"
      },
      "outputs": [
        {
          "output_type": "stream",
          "name": "stdout",
          "text": [
            "[0 1 2 3 4 5 6 7 8 9]\n",
            "[ 5  6  7  8  9 10 11 12 13 14]\n"
          ]
        },
        {
          "output_type": "execute_result",
          "data": {
            "text/plain": [
              "array([5, 6, 7, 8, 9])"
            ]
          },
          "metadata": {},
          "execution_count": 66
        }
      ],
      "source": [
        "x = np.arange(0, 10)\n",
        "print(x)\n",
        "y = np.arange(5, 15)\n",
        "print(y)\n",
        "np.intersect1d(x, y)"
      ]
    },
    {
      "cell_type": "markdown",
      "metadata": {
        "id": "n_rx5rxQRD2k"
      },
      "source": [
        "#### 31. How to ignore all numpy warnings (not recommended)? (★☆☆) \n",
        "(**hint**: np.seterr, np.errstate)"
      ]
    },
    {
      "cell_type": "code",
      "execution_count": null,
      "metadata": {
        "id": "p7uQ4hF-RD2k"
      },
      "outputs": [],
      "source": [
        "# Suicide mode on\n",
        "defaults = np.seterr(all=\"ignore\")\n",
        "Z = np.ones(1) / 0\n",
        "\n",
        "# Back to sanity\n",
        "_ = np.seterr(**defaults)"
      ]
    },
    {
      "cell_type": "markdown",
      "metadata": {
        "id": "zazCxRNMRD2k"
      },
      "source": [
        "#### 32. Is the following expressions true? (★☆☆) \n",
        "(**hint**: imaginary number)"
      ]
    },
    {
      "cell_type": "markdown",
      "metadata": {
        "id": "WlMvHe07RD2l"
      },
      "source": [
        "```python\n",
        "np.sqrt(-1) == np.emath.sqrt(-1)\n",
        "```"
      ]
    },
    {
      "cell_type": "code",
      "execution_count": null,
      "metadata": {
        "id": "ZAXdTVcbRD2l",
        "colab": {
          "base_uri": "https://localhost:8080/"
        },
        "outputId": "badf11f1-8e0a-489d-9cbd-acfb9727083a"
      },
      "outputs": [
        {
          "output_type": "execute_result",
          "data": {
            "text/plain": [
              "False"
            ]
          },
          "metadata": {},
          "execution_count": 70
        }
      ],
      "source": [
        "np.sqrt(-1) == np.emath.sqrt(-1)"
      ]
    },
    {
      "cell_type": "markdown",
      "metadata": {
        "id": "CaurnseiRD2l"
      },
      "source": [
        "#### 33. How to get the dates of yesterday, today and tomorrow? (★☆☆) \n",
        "(**hint**: np.datetime64, np.timedelta64)"
      ]
    },
    {
      "cell_type": "code",
      "execution_count": null,
      "metadata": {
        "collapsed": true,
        "id": "BNEYiIW5RD2l",
        "colab": {
          "base_uri": "https://localhost:8080/"
        },
        "outputId": "c91ea53a-b915-4b2a-b9f9-8cf254a9e56e"
      },
      "outputs": [
        {
          "output_type": "stream",
          "name": "stdout",
          "text": [
            "2022-05-22\n",
            "2022-05-21\n",
            "2022-05-23\n"
          ]
        }
      ],
      "source": [
        "today = np.datetime64('today', 'D')\n",
        "print(today)\n",
        "yesterday = np.datetime64('today', 'D') - np.timedelta64(1, 'D')\n",
        "print(yesterday)\n",
        "tomorrow = np.datetime64('today', 'D') + np.timedelta64(1, 'D')\n",
        "print(tomorrow)"
      ]
    },
    {
      "cell_type": "markdown",
      "metadata": {
        "id": "aOYWK5wTRD2m"
      },
      "source": [
        "#### 34. How to get all the dates corresponding to the month of July 2016? (★★☆) \n",
        "(**hint**: np.arange(dtype=datetime64\\['D'\\]))"
      ]
    },
    {
      "cell_type": "code",
      "execution_count": null,
      "metadata": {
        "id": "dgS2G_t4RD2m",
        "colab": {
          "base_uri": "https://localhost:8080/"
        },
        "outputId": "de1ab7af-3326-42b6-8118-1d3ff0382bbd"
      },
      "outputs": [
        {
          "output_type": "stream",
          "name": "stdout",
          "text": [
            "['2016-07-01' '2016-07-02' '2016-07-03' '2016-07-04' '2016-07-05'\n",
            " '2016-07-06' '2016-07-07' '2016-07-08' '2016-07-09' '2016-07-10'\n",
            " '2016-07-11' '2016-07-12' '2016-07-13' '2016-07-14' '2016-07-15'\n",
            " '2016-07-16' '2016-07-17' '2016-07-18' '2016-07-19' '2016-07-20'\n",
            " '2016-07-21' '2016-07-22' '2016-07-23' '2016-07-24' '2016-07-25'\n",
            " '2016-07-26' '2016-07-27' '2016-07-28' '2016-07-29' '2016-07-30'\n",
            " '2016-07-31']\n"
          ]
        }
      ],
      "source": [
        "x = np.arange('2016-07', '2016-08', dtype='datetime64[D]')\n",
        "print(x)"
      ]
    },
    {
      "cell_type": "markdown",
      "metadata": {
        "id": "z4ibvGudRD2m"
      },
      "source": [
        "#### 35. How to compute ((A+B)\\*(-A/2)) in place (without copy)? (★★☆) \n",
        "(**hint**: np.add(out=), np.negative(out=), np.multiply(out=), np.divide(out=))"
      ]
    },
    {
      "cell_type": "code",
      "execution_count": null,
      "metadata": {
        "id": "9NAhnxhPRD2m",
        "colab": {
          "base_uri": "https://localhost:8080/"
        },
        "outputId": "68b5f05f-4ae6-404b-898b-890d02027da7"
      },
      "outputs": [
        {
          "output_type": "stream",
          "name": "stdout",
          "text": [
            "[3. 3. 3.]\n",
            "[0.5 0.5 0.5]\n",
            "[-0.5 -0.5 -0.5]\n",
            "[-1.5 -1.5 -1.5]\n"
          ]
        }
      ],
      "source": [
        "A = np.ones(3) * 1\n",
        "B = np.ones(3) * 2\n",
        "C = np.ones(3) * 3\n",
        "x=np.add(A, B, out=B)\n",
        "print(x)\n",
        "y=np.divide(A, 2, out=A)\n",
        "print(y)\n",
        "z=np.negative(A, out=A)\n",
        "print(z)\n",
        "zz=np.multiply(A, B, out=A)\n",
        "print(zz)"
      ]
    },
    {
      "cell_type": "markdown",
      "metadata": {
        "id": "vub09fqzRD2n"
      },
      "source": [
        "#### 36. Extract the integer part of a random array using 5 different methods (★★☆) \n",
        "(**hint**: %, np.floor, np.ceil, astype, np.trunc)"
      ]
    },
    {
      "cell_type": "code",
      "execution_count": null,
      "metadata": {
        "id": "H6AiXDW7RD2n",
        "colab": {
          "base_uri": "https://localhost:8080/"
        },
        "outputId": "4d4e6fe2-92e5-4b60-e170-059ca79fcea1"
      },
      "outputs": [
        {
          "output_type": "execute_result",
          "data": {
            "text/plain": [
              "array([ 4.,  0.,  5.,  3., -4., -5., -6., -0., -5., -1.])"
            ]
          },
          "metadata": {},
          "execution_count": 83
        }
      ],
      "source": [
        "x = np.random.uniform(-10, +10, 10)\n",
        "x.astype(np.int32)\n",
        "np.trunc(x)"
      ]
    },
    {
      "cell_type": "markdown",
      "metadata": {
        "id": "0KDfvAd_RD2n"
      },
      "source": [
        "#### 37. Create a 5x5 matrix with row values ranging from 0 to 4 (★★☆) \n",
        "(**hint**: np.arange)"
      ]
    },
    {
      "cell_type": "code",
      "execution_count": null,
      "metadata": {
        "id": "3JudElRnRD2n",
        "colab": {
          "base_uri": "https://localhost:8080/"
        },
        "outputId": "334682eb-b2aa-418a-d1a8-e01fac439a04"
      },
      "outputs": [
        {
          "output_type": "stream",
          "name": "stdout",
          "text": [
            "[[0. 0. 0. 0. 0.]\n",
            " [0. 0. 0. 0. 0.]\n",
            " [0. 0. 0. 0. 0.]\n",
            " [0. 0. 0. 0. 0.]\n",
            " [0. 0. 0. 0. 0.]]\n",
            "[[0. 1. 2. 3. 4.]\n",
            " [0. 1. 2. 3. 4.]\n",
            " [0. 1. 2. 3. 4.]\n",
            " [0. 1. 2. 3. 4.]\n",
            " [0. 1. 2. 3. 4.]]\n"
          ]
        }
      ],
      "source": [
        "x = np.zeros((5, 5))\n",
        "print(x)\n",
        "x += np.arange(5)\n",
        "print(x)"
      ]
    },
    {
      "cell_type": "markdown",
      "metadata": {
        "id": "TeUYzHPPRD2o"
      },
      "source": [
        "#### 38. Consider a generator function that generates 10 integers and use it to build an array (★☆☆) \n",
        "(**hint**: np.fromiter)"
      ]
    },
    {
      "cell_type": "code",
      "execution_count": null,
      "metadata": {
        "id": "4K9JIJzvRD2o",
        "colab": {
          "base_uri": "https://localhost:8080/"
        },
        "outputId": "820bdb09-a2bb-499a-dbc3-d53e9d164d02"
      },
      "outputs": [
        {
          "output_type": "stream",
          "name": "stdout",
          "text": [
            "[0. 1. 2. 3. 4. 5. 6. 7. 8. 9.]\n"
          ]
        }
      ],
      "source": [
        "def generate_integers():\n",
        "    for i in range(10):\n",
        "        yield i\n",
        "x=np.fromiter(generate_integers(), dtype=np.float32, count=-1)\n",
        "print(x)"
      ]
    },
    {
      "cell_type": "markdown",
      "metadata": {
        "id": "WMp-7xO5RD2o"
      },
      "source": [
        "#### 39. Create a vector of size 10 with values ranging from 0 to 1, both excluded (★★☆) \n",
        "(**hint**: np.linspace)"
      ]
    },
    {
      "cell_type": "code",
      "execution_count": null,
      "metadata": {
        "id": "1gN8w2DZRD2o",
        "colab": {
          "base_uri": "https://localhost:8080/"
        },
        "outputId": "3f2a3987-8ddb-490a-bae4-4bffdafd5834"
      },
      "outputs": [
        {
          "output_type": "stream",
          "name": "stdout",
          "text": [
            "[0.  1.1 2.2 3.3 4.4 5.5 6.6 7.7 8.8 9.9]\n"
          ]
        }
      ],
      "source": [
        "x=np.linspace(start=0, stop=11, num=10, endpoint=False)\n",
        "print(x)"
      ]
    },
    {
      "cell_type": "markdown",
      "metadata": {
        "id": "cAN2hsZgRD2p"
      },
      "source": [
        "#### 40. Create a random vector of size 10 and sort it (★★☆) \n",
        "(**hint**: sort)"
      ]
    },
    {
      "cell_type": "code",
      "execution_count": null,
      "metadata": {
        "id": "tfhVXtPzRD2p",
        "colab": {
          "base_uri": "https://localhost:8080/"
        },
        "outputId": "920617f3-edca-4240-c4ca-60af8d799243"
      },
      "outputs": [
        {
          "output_type": "stream",
          "name": "stdout",
          "text": [
            "[0.25408658393639827, 0.34264068733391984, 0.405047372258886, 0.4665799093734425, 0.47297267062407844, 0.5225558121807388, 0.564031271032604, 0.748612290899718, 0.8163020659674737, 0.8568613791429132]\n"
          ]
        }
      ],
      "source": [
        "x = np.random.random(size=10)\n",
        "print(sorted(x))"
      ]
    },
    {
      "cell_type": "markdown",
      "metadata": {
        "id": "rQbW9uKrRD2p"
      },
      "source": [
        "#### 41. How to sum a small array faster than np.sum? (★★☆) \n",
        "(**hint**: np.add.reduce)"
      ]
    },
    {
      "cell_type": "code",
      "execution_count": null,
      "metadata": {
        "id": "jjzbStd2RD2p",
        "colab": {
          "base_uri": "https://localhost:8080/"
        },
        "outputId": "2d6ee760-b88b-44ca-ae54-69f3480f0eec"
      },
      "outputs": [
        {
          "output_type": "stream",
          "name": "stdout",
          "text": [
            "10.361194610595703\n",
            "4.021167755126953\n"
          ]
        }
      ],
      "source": [
        "import time\n",
        "\n",
        "begin_time = time.time()\n",
        "x = np.arange(1000000)\n",
        "np.sum(x)\n",
        "end_time = time.time()\n",
        "print(str(1000*(end_time - begin_time)))\n",
        "\n",
        "begin_time2 = time.time()\n",
        "x = np.arange(1000000)\n",
        "np.add.reduce(x)\n",
        "end_time2 = time.time()\n",
        "print(str(1000*(end_time2 - begin_time2)))"
      ]
    },
    {
      "cell_type": "markdown",
      "metadata": {
        "id": "AYtSm1zXRD2q"
      },
      "source": [
        "#### 42. Consider two random array A and B, check if they are equal (★★☆) \n",
        "(**hint**: np.allclose, np.array\\_equal)"
      ]
    },
    {
      "cell_type": "code",
      "execution_count": null,
      "metadata": {
        "id": "QzwsmvI9RD2q",
        "colab": {
          "base_uri": "https://localhost:8080/"
        },
        "outputId": "3f69999f-ae60-4cad-a0d3-9a9d3c459a0c"
      },
      "outputs": [
        {
          "output_type": "stream",
          "name": "stdout",
          "text": [
            "True\n"
          ]
        }
      ],
      "source": [
        "A = np.arange(10)\n",
        "B = np.arange(10)\n",
        "x=np.array_equal(A, B)\n",
        "print(x)"
      ]
    },
    {
      "cell_type": "markdown",
      "metadata": {
        "id": "cpQdEMYhRD2q"
      },
      "source": [
        "#### 43. Make an array immutable (read-only) (★★☆) \n",
        "(**hint**: flags.writeable)"
      ]
    },
    {
      "cell_type": "code",
      "execution_count": null,
      "metadata": {
        "id": "hDtSl81DRD2q",
        "colab": {
          "base_uri": "https://localhost:8080/",
          "height": 269
        },
        "outputId": "057962c2-f816-48b4-e7af-e2f6ce069506"
      },
      "outputs": [
        {
          "output_type": "stream",
          "name": "stdout",
          "text": [
            "True\n",
            "[0. 1. 0. 0. 0. 0. 0. 0. 0. 0.]\n"
          ]
        },
        {
          "output_type": "error",
          "ename": "ValueError",
          "evalue": "ignored",
          "traceback": [
            "\u001b[0;31m---------------------------------------------------------------------------\u001b[0m",
            "\u001b[0;31mValueError\u001b[0m                                Traceback (most recent call last)",
            "\u001b[0;32m<ipython-input-100-fd09bed4b7bf>\u001b[0m in \u001b[0;36m<module>\u001b[0;34m()\u001b[0m\n\u001b[1;32m      6\u001b[0m \u001b[0;31m# Make an array immutable (read-only)\u001b[0m\u001b[0;34m\u001b[0m\u001b[0;34m\u001b[0m\u001b[0;34m\u001b[0m\u001b[0m\n\u001b[1;32m      7\u001b[0m \u001b[0mb\u001b[0m\u001b[0;34m=\u001b[0m\u001b[0mx\u001b[0m\u001b[0;34m.\u001b[0m\u001b[0mflags\u001b[0m\u001b[0;34m.\u001b[0m\u001b[0mwriteable\u001b[0m \u001b[0;34m=\u001b[0m \u001b[0;32mFalse\u001b[0m\u001b[0;34m\u001b[0m\u001b[0;34m\u001b[0m\u001b[0m\n\u001b[0;32m----> 8\u001b[0;31m \u001b[0mx\u001b[0m\u001b[0;34m[\u001b[0m\u001b[0;36m1\u001b[0m\u001b[0;34m]\u001b[0m\u001b[0;34m=\u001b[0m\u001b[0;36m1\u001b[0m\u001b[0;34m\u001b[0m\u001b[0;34m\u001b[0m\u001b[0m\n\u001b[0m\u001b[1;32m      9\u001b[0m \u001b[0mprint\u001b[0m\u001b[0;34m(\u001b[0m\u001b[0mb\u001b[0m\u001b[0;34m)\u001b[0m\u001b[0;34m\u001b[0m\u001b[0;34m\u001b[0m\u001b[0m\n\u001b[1;32m     10\u001b[0m \u001b[0;34m\u001b[0m\u001b[0m\n",
            "\u001b[0;31mValueError\u001b[0m: assignment destination is read-only"
          ]
        }
      ],
      "source": [
        "x = np.zeros(10)\n",
        "a=x.flags.writeable\n",
        "print(a)\n",
        "x[1] = 1  \n",
        "print(x)\n",
        "# Make an array immutable (read-only)\n",
        "b=x.flags.writeable = False\n",
        "x[1]=1\n",
        "print(b)\n",
        "\n"
      ]
    },
    {
      "cell_type": "markdown",
      "metadata": {
        "id": "cV4RmeVPRD2r"
      },
      "source": [
        "#### 44. Consider a random 10x2 matrix representing cartesian coordinates, convert them to polar coordinates (★★☆) \n",
        "(**hint**: np.sqrt, np.arctan2)"
      ]
    },
    {
      "cell_type": "code",
      "execution_count": null,
      "metadata": {
        "id": "glRKeXUORD2r",
        "colab": {
          "base_uri": "https://localhost:8080/"
        },
        "outputId": "c7070007-631a-427b-d46e-3bb29b76bfaa"
      },
      "outputs": [
        {
          "output_type": "stream",
          "name": "stdout",
          "text": [
            "[0.72514672 0.79872295 0.54246671 0.57506734 0.5671227  0.39680326\n",
            " 0.66902587 0.79289605 0.48698231 0.87412254]\n",
            "[0.26595506 1.36838391 1.07279072 1.44159972 1.3055617  0.33426799\n",
            " 1.0800698  0.21330664 0.69342217 1.3496809 ]\n"
          ]
        }
      ],
      "source": [
        "a = np.random.random((10, 2))\n",
        "b, c = a[:, 0], a[:, 1]\n",
        "X = np.sqrt(b ** 2 + c ** 2)\n",
        "Y = np.arctan2(c, b)\n",
        "print(X)\n",
        "print(Y)"
      ]
    },
    {
      "cell_type": "markdown",
      "metadata": {
        "id": "dx-C4bl1RD2r"
      },
      "source": [
        "#### 45. Create random vector of size 10 and replace the maximum value by 0 (★★☆) \n",
        "(**hint**: argmax)"
      ]
    },
    {
      "cell_type": "code",
      "execution_count": null,
      "metadata": {
        "id": "Iqm_XLCCRD2r",
        "colab": {
          "base_uri": "https://localhost:8080/"
        },
        "outputId": "cf0bdd11-32df-478b-8fab-e5cbeb257575"
      },
      "outputs": [
        {
          "output_type": "stream",
          "name": "stdout",
          "text": [
            "0\n"
          ]
        }
      ],
      "source": [
        "x = np.random.random(10)\n",
        "x[x == np.max(x)] = 0\n",
        "y=x[x.argmax()] = 0\n",
        "print(y)\n"
      ]
    },
    {
      "cell_type": "markdown",
      "metadata": {
        "id": "1AAM7mgvRD2s"
      },
      "source": [
        "#### 46. Create a structured array with `x` and `y` coordinates covering the \\[0,1\\]x\\[0,1\\] area (★★☆) \n",
        "(**hint**: np.meshgrid)"
      ]
    },
    {
      "cell_type": "code",
      "execution_count": null,
      "metadata": {
        "id": "EnTcQDHJRD2s",
        "colab": {
          "base_uri": "https://localhost:8080/"
        },
        "outputId": "b0b6d419-f9c5-457b-e95f-b5fb3a2eb9d6"
      },
      "outputs": [
        {
          "output_type": "stream",
          "name": "stdout",
          "text": [
            "[array([[0.  , 0.25, 0.5 , 0.75, 1.  ],\n",
            "       [0.  , 0.25, 0.5 , 0.75, 1.  ],\n",
            "       [0.  , 0.25, 0.5 , 0.75, 1.  ],\n",
            "       [0.  , 0.25, 0.5 , 0.75, 1.  ],\n",
            "       [0.  , 0.25, 0.5 , 0.75, 1.  ]]), array([[0.  , 0.  , 0.  , 0.  , 0.  ],\n",
            "       [0.25, 0.25, 0.25, 0.25, 0.25],\n",
            "       [0.5 , 0.5 , 0.5 , 0.5 , 0.5 ],\n",
            "       [0.75, 0.75, 0.75, 0.75, 0.75],\n",
            "       [1.  , 1.  , 1.  , 1.  , 1.  ]])]\n"
          ]
        }
      ],
      "source": [
        "z = np.zeros((5, 5), [('x', float), ('y', float)])\n",
        "a=z['x'], z['y'] \n",
        "a= np.meshgrid(np.linspace(0, 1, 5), np.linspace(0, 1, 5))\n",
        "print(a)"
      ]
    },
    {
      "cell_type": "markdown",
      "metadata": {
        "id": "IS1cdOc9RD2s"
      },
      "source": [
        "####  47. Given two arrays, X and Y, construct the Cauchy matrix C (Cij =1/(xi - yj)) \n",
        "(**hint**: np.subtract.outer)"
      ]
    },
    {
      "cell_type": "code",
      "execution_count": null,
      "metadata": {
        "id": "9vcWht8uRD2s",
        "colab": {
          "base_uri": "https://localhost:8080/"
        },
        "outputId": "961d0ff4-a713-499f-dd7e-8e74c37655d1"
      },
      "outputs": [
        {
          "output_type": "stream",
          "name": "stdout",
          "text": [
            "3638.163637117973\n"
          ]
        }
      ],
      "source": [
        "X = np.arange(8)\n",
        "Y = X + 0.5\n",
        "C = 1.0 / np.subtract.outer(X, Y)\n",
        "print(np.linalg.det(C))"
      ]
    },
    {
      "cell_type": "markdown",
      "metadata": {
        "id": "qcu98Y16RD2t"
      },
      "source": [
        "#### 48. Print the minimum and maximum representable value for each numpy scalar type (★★☆) \n",
        "(**hint**: np.iinfo, np.finfo, eps)"
      ]
    },
    {
      "cell_type": "code",
      "execution_count": null,
      "metadata": {
        "id": "_hAYJKePRD2t",
        "colab": {
          "base_uri": "https://localhost:8080/"
        },
        "outputId": "19f7499c-484c-4301-8981-318b90b2ef91"
      },
      "outputs": [
        {
          "output_type": "stream",
          "name": "stdout",
          "text": [
            "-128\n",
            "127\n",
            "-2147483648\n",
            "2147483647\n",
            "-9223372036854775808\n",
            "9223372036854775807\n",
            "-3.4028235e+38\n",
            "3.4028235e+38\n",
            "1.1920929e-07\n",
            "-1.7976931348623157e+308\n",
            "1.7976931348623157e+308\n",
            "2.220446049250313e-16\n"
          ]
        }
      ],
      "source": [
        "for dtype in [np.int8, np.int32, np.int64]:\n",
        "   print(np.iinfo(dtype).min)\n",
        "   print(np.iinfo(dtype).max)\n",
        "for dtype in [np.float32, np.float64]:\n",
        "   print(np.finfo(dtype).min)\n",
        "   print(np.finfo(dtype).max)\n",
        "   print(np.finfo(dtype).eps)"
      ]
    },
    {
      "cell_type": "markdown",
      "metadata": {
        "id": "AUDnrgreRD2t"
      },
      "source": [
        "#### 49. How to print all the values of an array? (★★☆) \n",
        "(**hint**: np.set\\_printoptions)"
      ]
    },
    {
      "cell_type": "code",
      "execution_count": null,
      "metadata": {
        "id": "SXsRb21CRD2u",
        "colab": {
          "base_uri": "https://localhost:8080/"
        },
        "outputId": "38e1fbed-7871-43ce-bb49-4281a8b6ec75"
      },
      "outputs": [
        {
          "output_type": "stream",
          "name": "stdout",
          "text": [
            "[[0. 0. 0. 0. 0. 0. 0. 0. 0. 0. 0. 0. 0. 0. 0. 0. 0. 0. 0. 0.]\n",
            " [0. 0. 0. 0. 0. 0. 0. 0. 0. 0. 0. 0. 0. 0. 0. 0. 0. 0. 0. 0.]\n",
            " [0. 0. 0. 0. 0. 0. 0. 0. 0. 0. 0. 0. 0. 0. 0. 0. 0. 0. 0. 0.]\n",
            " [0. 0. 0. 0. 0. 0. 0. 0. 0. 0. 0. 0. 0. 0. 0. 0. 0. 0. 0. 0.]\n",
            " [0. 0. 0. 0. 0. 0. 0. 0. 0. 0. 0. 0. 0. 0. 0. 0. 0. 0. 0. 0.]\n",
            " [0. 0. 0. 0. 0. 0. 0. 0. 0. 0. 0. 0. 0. 0. 0. 0. 0. 0. 0. 0.]\n",
            " [0. 0. 0. 0. 0. 0. 0. 0. 0. 0. 0. 0. 0. 0. 0. 0. 0. 0. 0. 0.]\n",
            " [0. 0. 0. 0. 0. 0. 0. 0. 0. 0. 0. 0. 0. 0. 0. 0. 0. 0. 0. 0.]\n",
            " [0. 0. 0. 0. 0. 0. 0. 0. 0. 0. 0. 0. 0. 0. 0. 0. 0. 0. 0. 0.]\n",
            " [0. 0. 0. 0. 0. 0. 0. 0. 0. 0. 0. 0. 0. 0. 0. 0. 0. 0. 0. 0.]\n",
            " [0. 0. 0. 0. 0. 0. 0. 0. 0. 0. 0. 0. 0. 0. 0. 0. 0. 0. 0. 0.]\n",
            " [0. 0. 0. 0. 0. 0. 0. 0. 0. 0. 0. 0. 0. 0. 0. 0. 0. 0. 0. 0.]\n",
            " [0. 0. 0. 0. 0. 0. 0. 0. 0. 0. 0. 0. 0. 0. 0. 0. 0. 0. 0. 0.]\n",
            " [0. 0. 0. 0. 0. 0. 0. 0. 0. 0. 0. 0. 0. 0. 0. 0. 0. 0. 0. 0.]\n",
            " [0. 0. 0. 0. 0. 0. 0. 0. 0. 0. 0. 0. 0. 0. 0. 0. 0. 0. 0. 0.]\n",
            " [0. 0. 0. 0. 0. 0. 0. 0. 0. 0. 0. 0. 0. 0. 0. 0. 0. 0. 0. 0.]\n",
            " [0. 0. 0. 0. 0. 0. 0. 0. 0. 0. 0. 0. 0. 0. 0. 0. 0. 0. 0. 0.]\n",
            " [0. 0. 0. 0. 0. 0. 0. 0. 0. 0. 0. 0. 0. 0. 0. 0. 0. 0. 0. 0.]\n",
            " [0. 0. 0. 0. 0. 0. 0. 0. 0. 0. 0. 0. 0. 0. 0. 0. 0. 0. 0. 0.]\n",
            " [0. 0. 0. 0. 0. 0. 0. 0. 0. 0. 0. 0. 0. 0. 0. 0. 0. 0. 0. 0.]]\n"
          ]
        }
      ],
      "source": [
        "np.set_printoptions(threshold=float(\"inf\"))\n",
        "Z = np.zeros((20,20))\n",
        "print(Z)"
      ]
    },
    {
      "cell_type": "markdown",
      "metadata": {
        "id": "qruhKRtYRD2u"
      },
      "source": [
        "#### 50. How to find the closest value (to a given scalar) in a vector? (★★☆) \n",
        "(**hint**: argmin)"
      ]
    },
    {
      "cell_type": "code",
      "execution_count": null,
      "metadata": {
        "id": "IGnpzOuCRD2u",
        "colab": {
          "base_uri": "https://localhost:8080/"
        },
        "outputId": "dc77380d-3d5a-4f42-c19e-b5dbe90c8e92"
      },
      "outputs": [
        {
          "output_type": "stream",
          "name": "stdout",
          "text": [
            "12\n"
          ]
        }
      ],
      "source": [
        "Z = np.arange(100)\n",
        "v = np.random.uniform(0,100)\n",
        "index = (np.abs(Z-v)).argmin()\n",
        "print(Z[index])"
      ]
    },
    {
      "cell_type": "markdown",
      "metadata": {
        "id": "-NV6_-K9RD2v"
      },
      "source": [
        "#### 51. Create a structured array representing a position (x,y) and a color (r,g,b) (★★☆) \n",
        "(**hint**: dtype)"
      ]
    },
    {
      "cell_type": "code",
      "execution_count": 3,
      "metadata": {
        "id": "UlIr5qb_RD2w",
        "colab": {
          "base_uri": "https://localhost:8080/"
        },
        "outputId": "287d3201-3559-4ac4-f8f9-d09956b052e0"
      },
      "outputs": [
        {
          "output_type": "stream",
          "name": "stdout",
          "text": [
            "[((0., 0.), (0., 0., 0.)) ((0., 0.), (0., 0., 0.))\n",
            " ((0., 0.), (0., 0., 0.)) ((0., 0.), (0., 0., 0.))\n",
            " ((0., 0.), (0., 0., 0.)) ((0., 0.), (0., 0., 0.))\n",
            " ((0., 0.), (0., 0., 0.)) ((0., 0.), (0., 0., 0.))\n",
            " ((0., 0.), (0., 0., 0.)) ((0., 0.), (0., 0., 0.))]\n"
          ]
        },
        {
          "output_type": "stream",
          "name": "stderr",
          "text": [
            "/usr/local/lib/python3.7/dist-packages/ipykernel_launcher.py:5: FutureWarning: Passing (type, 1) or '1type' as a synonym of type is deprecated; in a future version of numpy, it will be understood as (type, (1,)) / '(1,)type'.\n",
            "  \"\"\"\n"
          ]
        }
      ],
      "source": [
        "a= np.zeros(10, [ ('position', [ ('x', float, 1),\n",
        "                                  ('y', float, 1)]),\n",
        "                   ('color',    [ ('r', float, 1),\n",
        "                                  ('g', float, 1),\n",
        "                                  ('b', float, 1)])])\n",
        "print(a)"
      ]
    },
    {
      "cell_type": "markdown",
      "metadata": {
        "id": "28wU6BnVRD2w"
      },
      "source": [
        "#### 52. Consider a random vector with shape (100,2) representing coordinates, find point by point distances (★★☆) \n",
        "(**hint**: np.atleast\\_2d, T, np.sqrt)"
      ]
    },
    {
      "cell_type": "code",
      "execution_count": 8,
      "metadata": {
        "id": "g4NnXzbNRD2w",
        "colab": {
          "base_uri": "https://localhost:8080/"
        },
        "outputId": "63c0e044-2c6e-46b2-873c-aea7974080e7"
      },
      "outputs": [
        {
          "output_type": "stream",
          "name": "stdout",
          "text": [
            "[[0.         0.35480934 0.70925718 ... 0.95679262 0.50356072 0.75440596]\n",
            " [0.35480934 0.         0.83211461 ... 0.76602968 0.59872787 0.72513733]\n",
            " [0.70925718 0.83211461 0.         ... 0.73003217 0.23351695 0.32810961]\n",
            " ...\n",
            " [0.95679262 0.76602968 0.73003217 ... 0.         0.6454183  0.40214332]\n",
            " [0.50356072 0.59872787 0.23351695 ... 0.6454183  0.         0.29834218]\n",
            " [0.75440596 0.72513733 0.32810961 ... 0.40214332 0.29834218 0.        ]]\n",
            "[[0.         0.55703436 0.44829966 0.38915654 0.48670548 0.05817226\n",
            "  0.09983988 0.70367434 0.27769331 0.36354328]\n",
            " [0.55703436 0.         0.61019352 0.3794027  0.28980986 0.58890105\n",
            "  0.5351918  0.14688291 0.81154392 0.55161499]\n",
            " [0.44829966 0.61019352 0.         0.71362276 0.74302683 0.50480724\n",
            "  0.34850701 0.72720283 0.47299718 0.77234085]\n",
            " [0.38915654 0.3794027  0.71362276 0.         0.13103069 0.381214\n",
            "  0.44096004 0.49007303 0.66194856 0.17867053]\n",
            " [0.48670548 0.28980986 0.74302683 0.13103069 0.         0.48958583\n",
            "  0.51936343 0.3770645  0.76422168 0.30491467]\n",
            " [0.05817226 0.58890105 0.50480724 0.381214   0.48958583 0.\n",
            "  0.157061   0.73446874 0.28174111 0.32978014]\n",
            " [0.09983988 0.5351918  0.34850701 0.44096004 0.51936343 0.157061\n",
            "  0.         0.68132613 0.27649038 0.44677281]\n",
            " [0.70367434 0.14688291 0.72720283 0.49007303 0.3770645  0.73446874\n",
            "  0.68132613 0.         0.95779606 0.66806054]\n",
            " [0.27769331 0.81154392 0.47299718 0.66194856 0.76422168 0.28174111\n",
            "  0.27649038 0.95779606 0.         0.60081868]\n",
            " [0.36354328 0.55161499 0.77234085 0.17867053 0.30491467 0.32978014\n",
            "  0.44677281 0.66806054 0.60081868 0.        ]]\n"
          ]
        }
      ],
      "source": [
        "a = np.random.random((100,2))\n",
        "#print(a)\n",
        "X,Y = np.atleast_2d(a[:,0], a[:,1])\n",
        "b = np.sqrt( (X-X.T)**2 + (Y-Y.T)**2)\n",
        "print(b)\n",
        "import scipy\n",
        "import scipy.spatial\n",
        "Z = np.random.random((10,2))\n",
        "D = scipy.spatial.distance.cdist(Z,Z)\n",
        "print(D)\n"
      ]
    },
    {
      "cell_type": "markdown",
      "metadata": {
        "id": "4GxTe_hxRD2w"
      },
      "source": [
        "#### 53. How to convert a float (32 bits) array into an integer (32 bits) in place? \n",
        "(**hint**: astype(copy=False))"
      ]
    },
    {
      "cell_type": "code",
      "execution_count": 27,
      "metadata": {
        "id": "fvsfyaFmRD2x",
        "colab": {
          "base_uri": "https://localhost:8080/"
        },
        "outputId": "58a21abe-1d17-4999-cf09-33699873d337"
      },
      "outputs": [
        {
          "output_type": "stream",
          "name": "stdout",
          "text": [
            "[38 43 40  5 15 36 85 23 81 90]\n",
            "[99 14 91 47  1 89 18  7 83 74]\n"
          ]
        }
      ],
      "source": [
        "Z = (np.random.rand(10)*100).astype(np.float32)\n",
        "Y = Z.view(np.int32)\n",
        "Y[:] = Z\n",
        "print(Y)\n",
        "Z = (np.random.rand(10)*100).astype(np.float32,copy=False)\n",
        "Y = Z.view(np.int32)\n",
        "Y[:] = Z\n",
        "print(Y)"
      ]
    },
    {
      "cell_type": "markdown",
      "metadata": {
        "id": "5ATNBwDgRD2x"
      },
      "source": [
        "#### 54. How to read the following file? (★★☆) \n",
        "(**hint**: np.genfromtxt)"
      ]
    },
    {
      "cell_type": "markdown",
      "metadata": {
        "id": "CphYv3kARD2x"
      },
      "source": [
        "```\n",
        "1, 2, 3, 4, 5\n",
        "6,  ,  , 7, 8\n",
        " ,  , 9,10,11\n",
        "```"
      ]
    },
    {
      "cell_type": "code",
      "execution_count": 28,
      "metadata": {
        "id": "uCugebzZRD2y",
        "colab": {
          "base_uri": "https://localhost:8080/"
        },
        "outputId": "c7811d6e-7d53-499f-d488-e4446c177b8a"
      },
      "outputs": [
        {
          "output_type": "stream",
          "name": "stdout",
          "text": [
            "[[ 1  2  3  4  5]\n",
            " [ 6 -1 -1  7  8]\n",
            " [-1 -1  9 10 11]]\n"
          ]
        },
        {
          "output_type": "stream",
          "name": "stderr",
          "text": [
            "/usr/local/lib/python3.7/dist-packages/ipykernel_launcher.py:8: DeprecationWarning: `np.int` is a deprecated alias for the builtin `int`. To silence this warning, use `int` by itself. Doing this will not modify any behavior and is safe. When replacing `np.int`, you may wish to use e.g. `np.int64` or `np.int32` to specify the precision. If you wish to review your current use, check the release note link for additional information.\n",
            "Deprecated in NumPy 1.20; for more details and guidance: https://numpy.org/devdocs/release/1.20.0-notes.html#deprecations\n",
            "  \n"
          ]
        }
      ],
      "source": [
        "from io import StringIO\n",
        "\n",
        "# Fake file\n",
        "s = StringIO('''1, 2, 3, 4, 5\n",
        "                6,  ,  , 7, 8\n",
        "                 ,  , 9,10,11\n",
        "''')\n",
        "x = np.genfromtxt(s, delimiter=\",\", dtype=np.int)\n",
        "print(x)"
      ]
    },
    {
      "cell_type": "markdown",
      "metadata": {
        "id": "rn-mNtePRD2y"
      },
      "source": [
        "#### 55. What is the equivalent of enumerate for numpy arrays? (★★☆) \n",
        "(**hint**: np.ndenumerate, np.ndindex)"
      ]
    },
    {
      "cell_type": "code",
      "execution_count": 30,
      "metadata": {
        "id": "iP2JNZUARD2y",
        "colab": {
          "base_uri": "https://localhost:8080/"
        },
        "outputId": "845073ab-ad05-450e-f7d2-9dd0b5fd99c7"
      },
      "outputs": [
        {
          "output_type": "stream",
          "name": "stdout",
          "text": [
            "(0, 0) 0\n",
            "(0, 1) 1\n",
            "(0, 2) 2\n",
            "(1, 0) 3\n",
            "(1, 1) 4\n",
            "(1, 2) 5\n",
            "(2, 0) 6\n",
            "(2, 1) 7\n",
            "(2, 2) 8\n",
            "(0, 0) 0\n",
            "(0, 1) 1\n",
            "(0, 2) 2\n",
            "(1, 0) 3\n",
            "(1, 1) 4\n",
            "(1, 2) 5\n",
            "(2, 0) 6\n",
            "(2, 1) 7\n",
            "(2, 2) 8\n"
          ]
        }
      ],
      "source": [
        "a = np.arange(9).reshape(3,3)\n",
        "for index, value in np.ndenumerate(a):\n",
        "    print(index, value)\n",
        "for index in np.ndindex(a.shape):\n",
        "    print(index, a[index])"
      ]
    },
    {
      "cell_type": "markdown",
      "metadata": {
        "id": "ruCu9tKtRD2y"
      },
      "source": [
        "#### 56. Generate a generic 2D Gaussian-like array (★★☆) \n",
        "(**hint**: np.meshgrid, np.exp)"
      ]
    },
    {
      "cell_type": "code",
      "execution_count": 31,
      "metadata": {
        "id": "WMFg-W3cRD2z",
        "colab": {
          "base_uri": "https://localhost:8080/"
        },
        "outputId": "bb570319-56ce-45dc-ba4b-de08e891fd80"
      },
      "outputs": [
        {
          "output_type": "stream",
          "name": "stdout",
          "text": [
            "[[0.36787944 0.44822088 0.51979489 0.57375342 0.60279818 0.60279818\n",
            "  0.57375342 0.51979489 0.44822088 0.36787944]\n",
            " [0.44822088 0.54610814 0.63331324 0.69905581 0.73444367 0.73444367\n",
            "  0.69905581 0.63331324 0.54610814 0.44822088]\n",
            " [0.51979489 0.63331324 0.73444367 0.81068432 0.85172308 0.85172308\n",
            "  0.81068432 0.73444367 0.63331324 0.51979489]\n",
            " [0.57375342 0.69905581 0.81068432 0.89483932 0.9401382  0.9401382\n",
            "  0.89483932 0.81068432 0.69905581 0.57375342]\n",
            " [0.60279818 0.73444367 0.85172308 0.9401382  0.98773022 0.98773022\n",
            "  0.9401382  0.85172308 0.73444367 0.60279818]\n",
            " [0.60279818 0.73444367 0.85172308 0.9401382  0.98773022 0.98773022\n",
            "  0.9401382  0.85172308 0.73444367 0.60279818]\n",
            " [0.57375342 0.69905581 0.81068432 0.89483932 0.9401382  0.9401382\n",
            "  0.89483932 0.81068432 0.69905581 0.57375342]\n",
            " [0.51979489 0.63331324 0.73444367 0.81068432 0.85172308 0.85172308\n",
            "  0.81068432 0.73444367 0.63331324 0.51979489]\n",
            " [0.44822088 0.54610814 0.63331324 0.69905581 0.73444367 0.73444367\n",
            "  0.69905581 0.63331324 0.54610814 0.44822088]\n",
            " [0.36787944 0.44822088 0.51979489 0.57375342 0.60279818 0.60279818\n",
            "  0.57375342 0.51979489 0.44822088 0.36787944]]\n"
          ]
        }
      ],
      "source": [
        "X, Y = np.meshgrid(np.linspace(-1,1,10), np.linspace(-1,1,10))\n",
        "D = np.sqrt(X*X+Y*Y)\n",
        "sigma, mu = 1.0, 0.0\n",
        "G = np.exp(-( (D-mu)**2 / ( 2.0 * sigma**2 ) ) )\n",
        "print(G)"
      ]
    },
    {
      "cell_type": "markdown",
      "metadata": {
        "id": "gA3e_W2FRD2z"
      },
      "source": [
        "#### 57. How to randomly place p elements in a 2D array? (★★☆) \n",
        "(**hint**: np.put, np.random.choice)"
      ]
    },
    {
      "cell_type": "code",
      "execution_count": 32,
      "metadata": {
        "id": "Y_jbtlo2RD2z",
        "colab": {
          "base_uri": "https://localhost:8080/"
        },
        "outputId": "ce376c9c-a677-44c7-c854-b7ebe1b49ba4"
      },
      "outputs": [
        {
          "output_type": "stream",
          "name": "stdout",
          "text": [
            "[[0. 0. 0. 0. 0. 0. 0. 0. 0. 0.]\n",
            " [0. 0. 0. 0. 0. 0. 0. 0. 1. 0.]\n",
            " [0. 0. 0. 0. 0. 0. 0. 0. 0. 0.]\n",
            " [0. 0. 0. 0. 0. 0. 0. 0. 0. 0.]\n",
            " [0. 0. 0. 0. 0. 0. 0. 0. 0. 0.]\n",
            " [0. 0. 0. 0. 0. 0. 0. 0. 0. 0.]\n",
            " [0. 0. 0. 0. 0. 0. 0. 0. 0. 0.]\n",
            " [0. 1. 0. 0. 0. 0. 0. 0. 0. 0.]\n",
            " [0. 0. 0. 0. 0. 0. 0. 0. 0. 0.]\n",
            " [0. 0. 0. 0. 1. 0. 0. 0. 0. 0.]]\n"
          ]
        }
      ],
      "source": [
        "n = 10\n",
        "p = 3\n",
        "Z = np.zeros((n,n))\n",
        "np.put(Z, np.random.choice(range(n*n), p, replace=False),1)\n",
        "print(Z)"
      ]
    },
    {
      "cell_type": "markdown",
      "metadata": {
        "id": "qRpBSKKORD2z"
      },
      "source": [
        "#### 58. Subtract the mean of each row of a matrix (★★☆) \n",
        "(**hint**: mean(axis=,keepdims=))"
      ]
    },
    {
      "cell_type": "code",
      "execution_count": 34,
      "metadata": {
        "id": "y_zyLHc2RD20",
        "colab": {
          "base_uri": "https://localhost:8080/"
        },
        "outputId": "09eaac3b-2c71-42b4-f5e9-93d361ba8d90"
      },
      "outputs": [
        {
          "output_type": "stream",
          "name": "stdout",
          "text": [
            "[[-0.22098112  0.47969402 -0.20737483 -0.03926708  0.05784781 -0.2320403\n",
            "   0.14691768  0.06786769 -0.04489498 -0.0077689 ]\n",
            " [ 0.56942385 -0.11150846  0.13691445 -0.2276371   0.00636556  0.50416891\n",
            "  -0.20540057 -0.18213564 -0.24462775 -0.24556325]\n",
            " [ 0.25631832 -0.1809788  -0.3261073   0.16171553  0.53987838 -0.11028221\n",
            "   0.03098351 -0.25803677 -0.17723087  0.06374021]\n",
            " [-0.02482642 -0.2232178  -0.3125052  -0.2160709   0.32350109  0.30739688\n",
            "   0.10886707  0.14360915 -0.43580864  0.32905478]\n",
            " [ 0.27113013 -0.06778443  0.44026486 -0.50788158  0.42760347 -0.49617187\n",
            "   0.02150847  0.25947121  0.12514836 -0.47328862]]\n",
            "\n",
            "\n",
            "[[-0.22098112  0.47969402 -0.20737483 -0.03926708  0.05784781 -0.2320403\n",
            "   0.14691768  0.06786769 -0.04489498 -0.0077689 ]\n",
            " [ 0.56942385 -0.11150846  0.13691445 -0.2276371   0.00636556  0.50416891\n",
            "  -0.20540057 -0.18213564 -0.24462775 -0.24556325]\n",
            " [ 0.25631832 -0.1809788  -0.3261073   0.16171553  0.53987838 -0.11028221\n",
            "   0.03098351 -0.25803677 -0.17723087  0.06374021]\n",
            " [-0.02482642 -0.2232178  -0.3125052  -0.2160709   0.32350109  0.30739688\n",
            "   0.10886707  0.14360915 -0.43580864  0.32905478]\n",
            " [ 0.27113013 -0.06778443  0.44026486 -0.50788158  0.42760347 -0.49617187\n",
            "   0.02150847  0.25947121  0.12514836 -0.47328862]]\n"
          ]
        }
      ],
      "source": [
        "X = np.random.rand(5, 10)\n",
        "\n",
        "# Recent versions of numpy\n",
        "Y = X - X.mean(axis=1, keepdims=True)\n",
        "print(Y)\n",
        "print(\"\\n\")\n",
        "# Older versions of numpy\n",
        "Y = X - X.mean(axis=1).reshape(-1, 1)\n",
        "\n",
        "print(Y)"
      ]
    },
    {
      "cell_type": "markdown",
      "metadata": {
        "id": "yb9XD3HWRD20"
      },
      "source": [
        "#### 59. How to sort an array by the nth column? (★★☆) \n",
        "(**hint**: argsort)"
      ]
    },
    {
      "cell_type": "code",
      "execution_count": 36,
      "metadata": {
        "id": "JGBJcsrKRD20",
        "colab": {
          "base_uri": "https://localhost:8080/"
        },
        "outputId": "8cfa530d-9512-4e40-e4b7-1194dc65ed8d"
      },
      "outputs": [
        {
          "output_type": "stream",
          "name": "stdout",
          "text": [
            "[[9 0 0]\n",
            " [4 3 0]\n",
            " [6 2 9]]\n",
            "\n",
            "\n",
            "[[9 0 0]\n",
            " [6 2 9]\n",
            " [4 3 0]]\n"
          ]
        }
      ],
      "source": [
        "Z = np.random.randint(0,10,(3,3))\n",
        "print(Z)\n",
        "print(\"\\n\")\n",
        "print(Z[Z[:,1].argsort()])"
      ]
    },
    {
      "cell_type": "markdown",
      "metadata": {
        "id": "lgpTLWEhRD20"
      },
      "source": [
        "#### 60. How to tell if a given 2D array has null columns? (★★☆) \n",
        "(**hint**: any, ~)"
      ]
    },
    {
      "cell_type": "code",
      "execution_count": 37,
      "metadata": {
        "id": "K-HkaKY2RD21",
        "colab": {
          "base_uri": "https://localhost:8080/"
        },
        "outputId": "629fb175-c31a-43a4-f48b-abc3dcc6c393"
      },
      "outputs": [
        {
          "output_type": "stream",
          "name": "stdout",
          "text": [
            "False\n"
          ]
        }
      ],
      "source": [
        "x = np.random.randint(0,3,(3,10))\n",
        "print((~x.any(axis=0)).any())"
      ]
    },
    {
      "cell_type": "markdown",
      "metadata": {
        "id": "PwavsX1sRD21"
      },
      "source": [
        "#### 61. Find the nearest value from a given value in an array (★★☆) \n",
        "(**hint**: np.abs, argmin, flat)"
      ]
    },
    {
      "cell_type": "code",
      "execution_count": 38,
      "metadata": {
        "id": "4VqBOv1PRD21",
        "colab": {
          "base_uri": "https://localhost:8080/"
        },
        "outputId": "41bddb2e-c72a-43ea-c404-65e4b2dc12b6"
      },
      "outputs": [
        {
          "output_type": "stream",
          "name": "stdout",
          "text": [
            "0.5660438848456556\n"
          ]
        }
      ],
      "source": [
        "Z = np.random.uniform(0,1,10)\n",
        "z = 0.5\n",
        "m = Z.flat[np.abs(Z - z).argmin()]\n",
        "print(m)"
      ]
    },
    {
      "cell_type": "markdown",
      "metadata": {
        "id": "pC2uxi79RD21"
      },
      "source": [
        "#### 62. Considering two arrays with shape (1,3) and (3,1), how to compute their sum using an iterator? (★★☆) \n",
        "(**hint**: np.nditer)"
      ]
    },
    {
      "cell_type": "code",
      "execution_count": 39,
      "metadata": {
        "id": "nR-kjwMRRD21",
        "colab": {
          "base_uri": "https://localhost:8080/"
        },
        "outputId": "3d06a3e1-556d-417f-f7c3-45c2afabe43e"
      },
      "outputs": [
        {
          "output_type": "stream",
          "name": "stdout",
          "text": [
            "[[0 1 2]\n",
            " [1 2 3]\n",
            " [2 3 4]]\n"
          ]
        }
      ],
      "source": [
        "A = np.arange(3).reshape(3,1)\n",
        "B = np.arange(3).reshape(1,3)\n",
        "it = np.nditer([A,B,None])\n",
        "for x,y,z in it: z[...] = x + y\n",
        "print(it.operands[2])"
      ]
    },
    {
      "cell_type": "markdown",
      "metadata": {
        "id": "6fkYg1YaRD22"
      },
      "source": [
        "#### 63. Create an array class that has a name attribute (★★☆) \n",
        "(**hint**: class method)"
      ]
    },
    {
      "cell_type": "code",
      "execution_count": 40,
      "metadata": {
        "id": "Eo7VBsKlRD22",
        "colab": {
          "base_uri": "https://localhost:8080/"
        },
        "outputId": "157ba83c-a64b-4c2c-dba7-58583f6db502"
      },
      "outputs": [
        {
          "output_type": "stream",
          "name": "stdout",
          "text": [
            "range_10\n"
          ]
        }
      ],
      "source": [
        "class NamedArray(np.ndarray):\n",
        "    def __new__(cls, array, name=\"no name\"):\n",
        "        obj = np.asarray(array).view(cls)\n",
        "        obj.name = name\n",
        "        return obj\n",
        "    def __array_finalize__(self, obj):\n",
        "        if obj is None: return\n",
        "        self.info = getattr(obj, 'name', \"no name\")\n",
        "\n",
        "Z = NamedArray(np.arange(10), \"range_10\")\n",
        "print (Z.name)"
      ]
    },
    {
      "cell_type": "markdown",
      "metadata": {
        "id": "y1-1JLOpRD22"
      },
      "source": [
        "#### 64. Consider a given vector, how to add 1 to each element indexed by a second vector (be careful with repeated indices)? (★★★) \n",
        "(**hint**: np.bincount | np.add.at)"
      ]
    },
    {
      "cell_type": "code",
      "execution_count": 41,
      "metadata": {
        "id": "OcQ1ydQ9RD22",
        "colab": {
          "base_uri": "https://localhost:8080/"
        },
        "outputId": "ec67ae29-59d5-41d3-afe2-7e67ecaf886a"
      },
      "outputs": [
        {
          "output_type": "stream",
          "name": "stdout",
          "text": [
            "[3. 3. 3. 2. 4. 2. 4. 2. 4. 3.]\n",
            "[5. 5. 5. 3. 7. 3. 7. 3. 7. 5.]\n"
          ]
        }
      ],
      "source": [
        "Z = np.ones(10)\n",
        "I = np.random.randint(0,len(Z),20)\n",
        "Z += np.bincount(I, minlength=len(Z))\n",
        "print(Z)\n",
        "\n",
        "# Another solution\n",
        "# Author: Bartosz Telenczuk\n",
        "np.add.at(Z, I, 1)\n",
        "print(Z)"
      ]
    },
    {
      "cell_type": "markdown",
      "metadata": {
        "id": "b-mXGUAJRD23"
      },
      "source": [
        "#### 65. How to accumulate elements of a vector (X) to an array (F) based on an index list (I)? (★★★) \n",
        "(**hint**: np.bincount)"
      ]
    },
    {
      "cell_type": "code",
      "execution_count": 42,
      "metadata": {
        "id": "Xejh4YMaRD23",
        "colab": {
          "base_uri": "https://localhost:8080/"
        },
        "outputId": "1bd6f8dd-3795-4c4b-8f3c-7c84c1760840"
      },
      "outputs": [
        {
          "output_type": "stream",
          "name": "stdout",
          "text": [
            "[0. 7. 0. 6. 5. 0. 0. 0. 0. 3.]\n"
          ]
        }
      ],
      "source": [
        "X = [1,2,3,4,5,6]\n",
        "I = [1,3,9,3,4,1]\n",
        "F = np.bincount(I,X)\n",
        "print(F)"
      ]
    },
    {
      "cell_type": "markdown",
      "metadata": {
        "id": "KbgQ4SilRD23"
      },
      "source": [
        "#### 66. Considering a (w,h,3) image of (dtype=ubyte), compute the number of unique colors (★★★) \n",
        "(**hint**: np.unique)"
      ]
    },
    {
      "cell_type": "code",
      "execution_count": 43,
      "metadata": {
        "id": "eLVEy4jGRD24",
        "colab": {
          "base_uri": "https://localhost:8080/"
        },
        "outputId": "c896df1d-d856-4c3d-8707-590175defa2b"
      },
      "outputs": [
        {
          "output_type": "stream",
          "name": "stdout",
          "text": [
            "64\n",
            "64\n"
          ]
        }
      ],
      "source": [
        "w, h = 256, 256\n",
        "I = np.random.randint(0, 4, (h, w, 3)).astype(np.ubyte)\n",
        "colors = np.unique(I.reshape(-1, 3), axis=0)\n",
        "n = len(colors)\n",
        "print(n)\n",
        "\n",
        "# Faster version\n",
        "# Author: Mark Setchell\n",
        "# https://stackoverflow.com/a/59671950/2836621\n",
        "\n",
        "w, h = 256, 256\n",
        "I = np.random.randint(0,4,(h,w,3), dtype=np.uint8)\n",
        "\n",
        "# View each pixel as a single 24-bit integer, rather than three 8-bit bytes\n",
        "I24 = np.dot(I.astype(np.uint32),[1,256,65536])\n",
        "\n",
        "# Count unique colours\n",
        "n = len(np.unique(I24))\n",
        "print(n)"
      ]
    },
    {
      "cell_type": "markdown",
      "metadata": {
        "id": "zAsFZWPQRD24"
      },
      "source": [
        "#### 67. Considering a four dimensions array, how to get sum over the last two axis at once? (★★★) \n",
        "(**hint**: sum(axis=(-2,-1)))"
      ]
    },
    {
      "cell_type": "code",
      "execution_count": 44,
      "metadata": {
        "id": "rcHELDMgRD24",
        "colab": {
          "base_uri": "https://localhost:8080/"
        },
        "outputId": "b46c2b6f-1bda-467c-97c7-0d8dc6208da2"
      },
      "outputs": [
        {
          "output_type": "stream",
          "name": "stdout",
          "text": [
            "[[50 66 50 57]\n",
            " [44 77 70 46]\n",
            " [39 37 67 66]]\n",
            "[[50 66 50 57]\n",
            " [44 77 70 46]\n",
            " [39 37 67 66]]\n"
          ]
        }
      ],
      "source": [
        "A = np.random.randint(0,10,(3,4,3,4))\n",
        "# solution by passing a tuple of axes (introduced in numpy 1.7.0)\n",
        "sum = A.sum(axis=(-2,-1))\n",
        "print(sum)\n",
        "# solution by flattening the last two dimensions into one\n",
        "# (useful for functions that don't accept tuples for axis argument)\n",
        "sum = A.reshape(A.shape[:-2] + (-1,)).sum(axis=-1)\n",
        "print(sum)"
      ]
    },
    {
      "cell_type": "markdown",
      "metadata": {
        "id": "3M6F9moXRD24"
      },
      "source": [
        "#### 68. Considering a one-dimensional vector D, how to compute means of subsets of D using a vector S of same size describing subset  indices? (★★★) \n",
        "(**hint**: np.bincount)"
      ]
    },
    {
      "cell_type": "code",
      "execution_count": 46,
      "metadata": {
        "id": "7mu2to_bRD25",
        "colab": {
          "base_uri": "https://localhost:8080/"
        },
        "outputId": "92262f84-56ed-4247-bff6-bc509e132b34"
      },
      "outputs": [
        {
          "output_type": "stream",
          "name": "stdout",
          "text": [
            "[0.6462383  0.5794748  0.45259902 0.25877034 0.44625853 0.50526256\n",
            " 0.5146309  0.57946996 0.26175285 0.59963582]\n",
            "\n",
            "\n",
            "0    0.646238\n",
            "1    0.579475\n",
            "2    0.452599\n",
            "3    0.258770\n",
            "4    0.446259\n",
            "5    0.505263\n",
            "6    0.514631\n",
            "7    0.579470\n",
            "8    0.261753\n",
            "9    0.599636\n",
            "dtype: float64\n"
          ]
        }
      ],
      "source": [
        "D = np.random.uniform(0,1,100)\n",
        "S = np.random.randint(0,10,100)\n",
        "D_sums = np.bincount(S, weights=D)\n",
        "D_counts = np.bincount(S)\n",
        "D_means = D_sums / D_counts\n",
        "print(D_means)\n",
        "print(\"\\n\")\n",
        "# Pandas solution as a reference due to more intuitive code\n",
        "import pandas as pd\n",
        "print(pd.Series(D).groupby(S).mean())"
      ]
    },
    {
      "cell_type": "markdown",
      "metadata": {
        "id": "rLIiR2eXRD25"
      },
      "source": [
        "#### 69. How to get the diagonal of a dot product? (★★★) \n",
        "(**hint**: np.diag)"
      ]
    },
    {
      "cell_type": "code",
      "execution_count": 48,
      "metadata": {
        "id": "laWy4XSsRD25",
        "colab": {
          "base_uri": "https://localhost:8080/"
        },
        "outputId": "3c4c3f04-9358-4bc4-ca0f-1e6a8d7731b0"
      },
      "outputs": [
        {
          "output_type": "stream",
          "name": "stdout",
          "text": [
            "[1.40130019 1.25288338 0.81973925 0.87821909 1.09237926]\n",
            "[1.40130019 1.25288338 0.81973925 0.87821909 1.09237926]\n",
            "[1.40130019 1.25288338 0.81973925 0.87821909 1.09237926]\n"
          ]
        }
      ],
      "source": [
        "A = np.random.uniform(0,1,(5,5))\n",
        "B = np.random.uniform(0,1,(5,5))\n",
        "\n",
        "# Slow version\n",
        "a=np.diag(np.dot(A, B))\n",
        "print(a)\n",
        "# Fast version\n",
        "b=np.sum(A * B.T, axis=1)\n",
        "print(b)\n",
        "# Faster version\n",
        "c=np.einsum(\"ij,ji->i\", A, B)\n",
        "print(c)"
      ]
    },
    {
      "cell_type": "markdown",
      "metadata": {
        "id": "H0yzJv1hRD26"
      },
      "source": [
        "#### 70. Consider the vector \\[1, 2, 3, 4, 5\\], how to build a new vector with 3 consecutive zeros interleaved between each value? (★★★) \n",
        "(**hint**: array\\[::4\\])"
      ]
    },
    {
      "cell_type": "code",
      "execution_count": 49,
      "metadata": {
        "id": "KOyLGNspRD26",
        "colab": {
          "base_uri": "https://localhost:8080/"
        },
        "outputId": "8781b3a0-ad8d-4f00-ccda-eacd3eda5b9a"
      },
      "outputs": [
        {
          "output_type": "stream",
          "name": "stdout",
          "text": [
            "[1. 0. 0. 0. 2. 0. 0. 0. 3. 0. 0. 0. 4. 0. 0. 0. 5.]\n"
          ]
        }
      ],
      "source": [
        "Z = np.array([1,2,3,4,5])\n",
        "nz = 3\n",
        "Z0 = np.zeros(len(Z) + (len(Z)-1)*(nz))\n",
        "Z0[::nz+1] = Z\n",
        "print(Z0)"
      ]
    },
    {
      "cell_type": "markdown",
      "metadata": {
        "id": "UnQy6lzBRD26"
      },
      "source": [
        "#### 71. Consider an array of dimension (5,5,3), how to mulitply it by an array with dimensions (5,5)? (★★★) \n",
        "(**hint**: array\\[:, :, None\\])"
      ]
    },
    {
      "cell_type": "code",
      "execution_count": 50,
      "metadata": {
        "collapsed": true,
        "id": "kRT_sExhRD26",
        "colab": {
          "base_uri": "https://localhost:8080/"
        },
        "outputId": "0cf498a4-d45e-4990-990b-b310bda290a8"
      },
      "outputs": [
        {
          "output_type": "stream",
          "name": "stdout",
          "text": [
            "[[[2. 2. 2.]\n",
            "  [2. 2. 2.]\n",
            "  [2. 2. 2.]\n",
            "  [2. 2. 2.]\n",
            "  [2. 2. 2.]]\n",
            "\n",
            " [[2. 2. 2.]\n",
            "  [2. 2. 2.]\n",
            "  [2. 2. 2.]\n",
            "  [2. 2. 2.]\n",
            "  [2. 2. 2.]]\n",
            "\n",
            " [[2. 2. 2.]\n",
            "  [2. 2. 2.]\n",
            "  [2. 2. 2.]\n",
            "  [2. 2. 2.]\n",
            "  [2. 2. 2.]]\n",
            "\n",
            " [[2. 2. 2.]\n",
            "  [2. 2. 2.]\n",
            "  [2. 2. 2.]\n",
            "  [2. 2. 2.]\n",
            "  [2. 2. 2.]]\n",
            "\n",
            " [[2. 2. 2.]\n",
            "  [2. 2. 2.]\n",
            "  [2. 2. 2.]\n",
            "  [2. 2. 2.]\n",
            "  [2. 2. 2.]]]\n"
          ]
        }
      ],
      "source": [
        "A = np.ones((5,5,3))\n",
        "B = 2*np.ones((5,5))\n",
        "print(A * B[:,:,None])"
      ]
    },
    {
      "cell_type": "markdown",
      "metadata": {
        "id": "Ohkimj2oRD27"
      },
      "source": [
        "#### 72. How to swap two rows of an array? (★★★) \n",
        "(**hint**: array\\[\\[\\]\\] = array\\[\\[\\]\\])"
      ]
    },
    {
      "cell_type": "code",
      "execution_count": 51,
      "metadata": {
        "id": "Raq9349-RD27",
        "colab": {
          "base_uri": "https://localhost:8080/"
        },
        "outputId": "c3955c8d-176a-4e0c-9749-cc76d9287ffd"
      },
      "outputs": [
        {
          "output_type": "stream",
          "name": "stdout",
          "text": [
            "[[ 5  6  7  8  9]\n",
            " [ 0  1  2  3  4]\n",
            " [10 11 12 13 14]\n",
            " [15 16 17 18 19]\n",
            " [20 21 22 23 24]]\n"
          ]
        }
      ],
      "source": [
        "A = np.arange(25).reshape(5,5)\n",
        "A[[0,1]] = A[[1,0]]\n",
        "print(A)"
      ]
    },
    {
      "cell_type": "markdown",
      "metadata": {
        "id": "esTEgL_wRD27"
      },
      "source": [
        "#### 73. Consider a set of 10 triplets describing 10 triangles (with shared vertices), find the set of unique line segments composing all the  triangles (★★★) \n",
        "(**hint**: repeat, np.roll, np.sort, view, np.unique)"
      ]
    },
    {
      "cell_type": "code",
      "execution_count": 52,
      "metadata": {
        "id": "GKAsa12BRD28",
        "colab": {
          "base_uri": "https://localhost:8080/"
        },
        "outputId": "4c59e6fb-cefa-4fc6-d186-5dd266fdb51b"
      },
      "outputs": [
        {
          "output_type": "stream",
          "name": "stdout",
          "text": [
            "[( 1, 63) ( 1, 97) ( 3, 61) ( 3, 78) ( 5,  7) ( 5, 46) ( 7, 46) (11, 48)\n",
            " (11, 84) (13, 19) (13, 74) (19, 74) (28, 71) (28, 94) (33, 63) (33, 96)\n",
            " (36, 82) (36, 99) (48, 84) (52, 83) (52, 99) (61, 75) (61, 78) (61, 98)\n",
            " (63, 96) (63, 97) (71, 94) (75, 98) (82, 99) (83, 99)]\n"
          ]
        }
      ],
      "source": [
        "faces = np.random.randint(0,100,(10,3))\n",
        "F = np.roll(faces.repeat(2,axis=1),-1,axis=1)\n",
        "F = F.reshape(len(F)*3,2)\n",
        "F = np.sort(F,axis=1)\n",
        "G = F.view( dtype=[('p0',F.dtype),('p1',F.dtype)] )\n",
        "G = np.unique(G)\n",
        "print(G)"
      ]
    },
    {
      "cell_type": "markdown",
      "metadata": {
        "id": "z7eXbbBZRD29"
      },
      "source": [
        "#### 74. Given an array C that is a bincount, how to produce an array A such that np.bincount(A) == C? (★★★) \n",
        "(**hint**: np.repeat)"
      ]
    },
    {
      "cell_type": "code",
      "execution_count": 53,
      "metadata": {
        "id": "BHvNOyx4RD29",
        "colab": {
          "base_uri": "https://localhost:8080/"
        },
        "outputId": "5a7950f8-d2b2-416a-aa34-e0999ab7c10f"
      },
      "outputs": [
        {
          "output_type": "stream",
          "name": "stdout",
          "text": [
            "[1 1 2 3 4 4 6]\n"
          ]
        }
      ],
      "source": [
        "C = np.bincount([1,1,2,3,4,4,6])\n",
        "A = np.repeat(np.arange(len(C)), C)\n",
        "print(A)"
      ]
    },
    {
      "cell_type": "markdown",
      "metadata": {
        "id": "zfW4xWiARD2-"
      },
      "source": [
        "#### 75. How to compute averages using a sliding window over an array? (★★★) \n",
        "(**hint**: np.cumsum)"
      ]
    },
    {
      "cell_type": "code",
      "execution_count": 56,
      "metadata": {
        "id": "Vk6r3tXZRD2-",
        "colab": {
          "base_uri": "https://localhost:8080/"
        },
        "outputId": "a39e2713-b071-428b-ede6-7d4f13a9df6a"
      },
      "outputs": [
        {
          "output_type": "stream",
          "name": "stdout",
          "text": [
            "[ 1.  2.  3.  4.  5.  6.  7.  8.  9. 10. 11. 12. 13. 14. 15. 16. 17. 18.]\n"
          ]
        }
      ],
      "source": [
        "def moving_average(a, n=3) :\n",
        "    ret = np.cumsum(a, dtype=float)\n",
        "    ret[n:] = ret[n:] - ret[:-n]\n",
        "    return ret[n - 1:] / n\n",
        "Z = np.arange(20)\n",
        "print(moving_average(Z, n=3))"
      ]
    },
    {
      "cell_type": "markdown",
      "metadata": {
        "id": "Aydd344WRD2-"
      },
      "source": [
        "#### 76. Consider a one-dimensional array Z, build a two-dimensional array whose first row is (Z\\[0\\],Z\\[1\\],Z\\[2\\]) and each subsequent row is  shifted by 1 (last row should be (Z\\[-3\\],Z\\[-2\\],Z\\[-1\\]) (★★★) \n",
        "(**hint**: from numpy.lib import stride_tricks)"
      ]
    },
    {
      "cell_type": "code",
      "execution_count": 57,
      "metadata": {
        "id": "z4O1PaOBRD2_",
        "colab": {
          "base_uri": "https://localhost:8080/"
        },
        "outputId": "07f0d4c4-c0f3-42ac-aed3-13f9510ba17c"
      },
      "outputs": [
        {
          "output_type": "stream",
          "name": "stdout",
          "text": [
            "[[0 1 2]\n",
            " [1 2 3]\n",
            " [2 3 4]\n",
            " [3 4 5]\n",
            " [4 5 6]\n",
            " [5 6 7]\n",
            " [6 7 8]\n",
            " [7 8 9]]\n"
          ]
        }
      ],
      "source": [
        "from numpy.lib import stride_tricks\n",
        "\n",
        "def rolling(a, window):\n",
        "    shape = (a.size - window + 1, window)\n",
        "    strides = (a.strides[0], a.strides[0])\n",
        "    return stride_tricks.as_strided(a, shape=shape, strides=strides)\n",
        "Z = rolling(np.arange(10), 3)\n",
        "print(Z)"
      ]
    },
    {
      "cell_type": "markdown",
      "metadata": {
        "id": "F34JdPXWRD2_"
      },
      "source": [
        "#### 77. How to negate a boolean, or to change the sign of a float inplace? (★★★) \n",
        "(**hint**: np.logical_not, np.negative)"
      ]
    },
    {
      "cell_type": "code",
      "execution_count": 59,
      "metadata": {
        "id": "CN95wEQARD3A",
        "colab": {
          "base_uri": "https://localhost:8080/"
        },
        "outputId": "3e7b8cd2-f8fa-4d72-8add-d70b409cb6a3"
      },
      "outputs": [
        {
          "output_type": "stream",
          "name": "stdout",
          "text": [
            "[0 1 0 1 0 0 1 0 1 1 0 0 0 0 0 0 1 0 0 0 1 0 1 1 1 0 1 1 0 0 1 1 0 1 1 1 0\n",
            " 0 0 1 1 0 1 0 1 0 0 1 0 1 0 1 1 0 1 0 1 1 0 0 0 1 1 0 0 0 0 1 0 0 0 1 1 0\n",
            " 0 1 1 1 1 1 1 0 1 1 1 0 0 1 1 1 1 0 0 0 0 1 0 0 0 0]\n",
            "\n",
            "\n",
            "[ 0.97440868  0.05147344 -0.7120319   0.44512064  0.04789501  0.71457952\n",
            " -0.62002728 -0.14541769  0.07876695 -0.4846805   0.55130962  0.56782299\n",
            " -0.02680531  0.14117947 -0.94924952  0.83748939 -0.41855149 -0.88390215\n",
            "  0.54675898  0.63573716  0.18317168  0.9753259   0.41264367  0.56990798\n",
            " -0.38924245 -0.62102488 -0.47909772 -0.52186957 -0.5031303   0.91270601\n",
            "  0.58503739 -0.29673816 -0.92391718  0.81950576  0.39440112 -0.86328269\n",
            " -0.86096858  0.60520907  0.39588275  0.75442373 -0.55914881 -0.91136281\n",
            "  0.30196859 -0.26456911  0.26033911  0.11556791 -0.23219547 -0.57079991\n",
            "  0.11721861  0.48000369  0.43454188 -0.71982334 -0.10987197  0.8094833\n",
            " -0.13179874 -0.44507629 -0.22887584  0.17984046  0.26463919 -0.41091832\n",
            "  0.19935891  0.24783797  0.74922643 -0.33066857  0.04241405  0.72538417\n",
            " -0.17818019  0.02342043 -0.2544841   0.9276819  -0.74976466  0.79063422\n",
            "  0.24808912 -0.90736393 -0.15055923  0.76621761 -0.3835629   0.00177631\n",
            " -0.00282873  0.37379337  0.60218933  0.20529428  0.6045421  -0.58323108\n",
            "  0.4202774  -0.31213282 -0.50977759  0.82184152  0.03972667 -0.28494171\n",
            "  0.98173417 -0.28163638 -0.84007128 -0.32131324  0.36426931  0.20370166\n",
            " -0.71811301  0.14656114 -0.15351197  0.081738  ]\n"
          ]
        }
      ],
      "source": [
        "Z = np.random.randint(0,2,100)\n",
        "a=np.logical_not(Z, out=Z)\n",
        "print(a)\n",
        "print(\"\\n\")\n",
        "Z = np.random.uniform(-1.0,1.0,100)\n",
        "b=np.negative(Z, out=Z)\n",
        "print(b)"
      ]
    },
    {
      "cell_type": "markdown",
      "metadata": {
        "id": "h9VMQN0RRD3A"
      },
      "source": [
        "#### 78. Consider 2 sets of points P0,P1 describing lines (2d) and a point p, how to compute distance from p to each line i  (P0\\[i\\],P1\\[i\\])? (★★★)"
      ]
    },
    {
      "cell_type": "code",
      "execution_count": 60,
      "metadata": {
        "id": "wzXRic-jRD3B",
        "colab": {
          "base_uri": "https://localhost:8080/"
        },
        "outputId": "7e43ffa7-cac8-405b-d540-6d8845f28dd3"
      },
      "outputs": [
        {
          "output_type": "stream",
          "name": "stdout",
          "text": [
            "[14.8403363   3.97306822  7.68343135  8.97038703  0.13811519  2.10297161\n",
            "  7.95659013  4.67506563  3.21955535  6.0138895 ]\n"
          ]
        }
      ],
      "source": [
        "def distance(P0, P1, p):\n",
        "    T = P1 - P0\n",
        "    L = (T**2).sum(axis=1)\n",
        "    U = -((P0[:,0]-p[...,0])*T[:,0] + (P0[:,1]-p[...,1])*T[:,1]) / L\n",
        "    U = U.reshape(len(U),1)\n",
        "    D = P0 + U*T - p\n",
        "    return np.sqrt((D**2).sum(axis=1))\n",
        "\n",
        "P0 = np.random.uniform(-10,10,(10,2))\n",
        "P1 = np.random.uniform(-10,10,(10,2))\n",
        "p  = np.random.uniform(-10,10,( 1,2))\n",
        "print(distance(P0, P1, p))"
      ]
    },
    {
      "cell_type": "markdown",
      "metadata": {
        "id": "h_YaYCKlRD3B"
      },
      "source": [
        "#### 79. Consider 2 sets of points P0,P1 describing lines (2d) and a set of points P, how to compute distance from each point j (P\\[j\\]) to each line i (P0\\[i\\],P1\\[i\\])? (★★★)"
      ]
    },
    {
      "cell_type": "code",
      "execution_count": 61,
      "metadata": {
        "id": "BfO6uwSYRD3C",
        "colab": {
          "base_uri": "https://localhost:8080/"
        },
        "outputId": "b6ce5037-5056-45eb-987f-ba22dbb0b452"
      },
      "outputs": [
        {
          "output_type": "stream",
          "name": "stdout",
          "text": [
            "[[ 1.46754947  4.29994788  1.84231733  2.53779036  1.38253715  1.68127161\n",
            "   3.21346407  2.34797328  4.56957488  2.86548268]\n",
            " [ 1.5306792   7.58280041  1.14563094  5.30187409  1.94717008  1.80764611\n",
            "   4.33823576  1.64066056  5.23394463  2.57547011]\n",
            " [ 6.57113712  9.6076142   6.20645452  5.06090677  5.69680129  3.04534207\n",
            "   0.70212296  5.84267691  0.97852293  2.65154009]\n",
            " [11.52414232  9.10491513 11.20632686  1.33763853  8.06312598 11.42732924\n",
            "   6.81334523 13.81728813  7.0351655  11.16853349]\n",
            " [ 6.04438929  3.04885798  5.7459675   3.79266262  1.94786579 11.73963818\n",
            "   8.95780004 15.1965861   8.3356765  10.71459244]\n",
            " [ 1.21755411  9.12736572  0.81324304  7.65342355  2.59770252  4.53062892\n",
            "   7.20627669  1.19756676  8.06650814  5.16585283]\n",
            " [ 0.40497906  0.47008357  0.71945852  4.78268917  3.34077349  6.87567925\n",
            "   5.77346657 11.2520668   4.31783329  5.285473  ]\n",
            " [ 3.33790236  2.03195487  3.66009805  5.1791888   5.72552807  4.60805999\n",
            "   4.26460241  9.39899339  2.43162152  2.76442379]\n",
            " [11.06758382  7.55990002 10.7625947   0.54523021  7.00331764 12.96167357\n",
            "   8.63778119 15.53750498  8.74322357 12.54196816]\n",
            " [ 5.35133676  6.55829626  5.00930159  1.5391182   3.43573506  5.58113291\n",
            "   2.46623852  8.7745435   1.92665804  4.85804649]]\n"
          ]
        }
      ],
      "source": [
        "P0 = np.random.uniform(-10, 10, (10,2))\n",
        "P1 = np.random.uniform(-10,10,(10,2))\n",
        "p = np.random.uniform(-10, 10, (10,2))\n",
        "print(np.array([distance(P0,P1,p_i) for p_i in p]))"
      ]
    },
    {
      "cell_type": "markdown",
      "metadata": {
        "id": "W-WUrHIiRD3C"
      },
      "source": [
        "#### 80. Consider an arbitrary array, write a function that extract a subpart with a fixed shape and centered on a given element (pad with a `fill` value when necessary) (★★★) \n",
        "(**hint**: minimum, maximum)"
      ]
    },
    {
      "cell_type": "code",
      "execution_count": 62,
      "metadata": {
        "id": "iNvI5o3NRD3C",
        "colab": {
          "base_uri": "https://localhost:8080/"
        },
        "outputId": "4a83cc1d-4fb6-45f1-fd80-d03b4cc1452c"
      },
      "outputs": [
        {
          "output_type": "stream",
          "name": "stdout",
          "text": [
            "[[8 9 8 3 2 7 8 0 4 6]\n",
            " [9 0 9 5 5 9 4 0 4 4]\n",
            " [0 4 3 0 7 0 9 4 5 0]\n",
            " [4 4 5 9 0 9 8 6 2 0]\n",
            " [9 9 7 5 7 3 2 3 3 7]\n",
            " [9 8 7 4 4 2 1 1 1 9]\n",
            " [6 6 4 4 2 8 2 5 5 8]\n",
            " [0 5 5 5 1 6 7 4 1 2]\n",
            " [4 6 5 1 1 3 2 1 5 8]\n",
            " [1 1 4 2 3 5 8 8 5 6]]\n",
            "[[0 0 0 0 0]\n",
            " [0 8 9 8 3]\n",
            " [0 9 0 9 5]\n",
            " [0 0 4 3 0]\n",
            " [0 4 4 5 9]]\n"
          ]
        },
        {
          "output_type": "stream",
          "name": "stderr",
          "text": [
            "/usr/local/lib/python3.7/dist-packages/ipykernel_launcher.py:23: FutureWarning: Using a non-tuple sequence for multidimensional indexing is deprecated; use `arr[tuple(seq)]` instead of `arr[seq]`. In the future this will be interpreted as an array index, `arr[np.array(seq)]`, which will result either in an error or a different result.\n"
          ]
        }
      ],
      "source": [
        "Z = np.random.randint(0,10,(10,10))\n",
        "shape = (5,5)\n",
        "fill  = 0\n",
        "position = (1,1)\n",
        "\n",
        "R = np.ones(shape, dtype=Z.dtype)*fill\n",
        "P  = np.array(list(position)).astype(int)\n",
        "Rs = np.array(list(R.shape)).astype(int)\n",
        "Zs = np.array(list(Z.shape)).astype(int)\n",
        "\n",
        "R_start = np.zeros((len(shape),)).astype(int)\n",
        "R_stop  = np.array(list(shape)).astype(int)\n",
        "Z_start = (P-Rs//2)\n",
        "Z_stop  = (P+Rs//2)+Rs%2\n",
        "\n",
        "R_start = (R_start - np.minimum(Z_start,0)).tolist()\n",
        "Z_start = (np.maximum(Z_start,0)).tolist()\n",
        "R_stop = np.maximum(R_start, (R_stop - np.maximum(Z_stop-Zs,0))).tolist()\n",
        "Z_stop = (np.minimum(Z_stop,Zs)).tolist()\n",
        "\n",
        "r = [slice(start,stop) for start,stop in zip(R_start,R_stop)]\n",
        "z = [slice(start,stop) for start,stop in zip(Z_start,Z_stop)]\n",
        "R[r] = Z[z]\n",
        "print(Z)\n",
        "print(R)"
      ]
    },
    {
      "cell_type": "markdown",
      "metadata": {
        "id": "EXQ3QaKsRD3D"
      },
      "source": [
        "#### 81. Consider an array Z = \\[1,2,3,4,5,6,7,8,9,10,11,12,13,14\\], how to generate an array R = \\[\\[1,2,3,4\\], \\[2,3,4,5\\], \\[3,4,5,6\\], ..., \\[11,12,13,14\\]\\]? (★★★) \n",
        "(**hint**: stride\\_tricks.as\\_strided)"
      ]
    },
    {
      "cell_type": "code",
      "execution_count": 63,
      "metadata": {
        "id": "YTlcBi9MRD3D",
        "colab": {
          "base_uri": "https://localhost:8080/"
        },
        "outputId": "9e6a949f-aef0-4e14-b48e-d5ab9bdb7470"
      },
      "outputs": [
        {
          "output_type": "stream",
          "name": "stdout",
          "text": [
            "[[ 1  2  3  4]\n",
            " [ 2  3  4  5]\n",
            " [ 3  4  5  6]\n",
            " [ 4  5  6  7]\n",
            " [ 5  6  7  8]\n",
            " [ 6  7  8  9]\n",
            " [ 7  8  9 10]\n",
            " [ 8  9 10 11]\n",
            " [ 9 10 11 12]\n",
            " [10 11 12 13]\n",
            " [11 12 13 14]]\n"
          ]
        }
      ],
      "source": [
        "Z = np.arange(1,15,dtype=np.uint32)\n",
        "R = stride_tricks.as_strided(Z,(11,4),(4,4))\n",
        "print(R)"
      ]
    },
    {
      "cell_type": "markdown",
      "metadata": {
        "id": "1KL1iy4_RD3E"
      },
      "source": [
        "#### 82. Compute a matrix rank (★★★) \n",
        "(**hint**: np.linalg.svd) (suggestion: np.linalg.svd)"
      ]
    },
    {
      "cell_type": "code",
      "execution_count": 64,
      "metadata": {
        "id": "WBQLr5VXRD3E",
        "colab": {
          "base_uri": "https://localhost:8080/"
        },
        "outputId": "1693c244-20c2-4c8d-db5e-6dc3bb273c45"
      },
      "outputs": [
        {
          "output_type": "stream",
          "name": "stdout",
          "text": [
            "10\n"
          ]
        }
      ],
      "source": [
        "Z = np.random.uniform(0,1,(10,10))\n",
        "U, S, V = np.linalg.svd(Z) # Singular Value Decomposition\n",
        "rank = np.sum(S > 1e-10)\n",
        "print(rank)"
      ]
    },
    {
      "cell_type": "markdown",
      "metadata": {
        "id": "v4hqYEVCRD3F"
      },
      "source": [
        "#### 83. How to find the most frequent value in an array? \n",
        "(**hint**: np.bincount, argmax)"
      ]
    },
    {
      "cell_type": "code",
      "execution_count": 65,
      "metadata": {
        "id": "zL72AFYnRD3F",
        "colab": {
          "base_uri": "https://localhost:8080/"
        },
        "outputId": "fa7e7000-bad2-41ac-c0dd-5c88acc28009"
      },
      "outputs": [
        {
          "output_type": "stream",
          "name": "stdout",
          "text": [
            "2\n"
          ]
        }
      ],
      "source": [
        "Z = np.random.randint(0,10,50)\n",
        "print(np.bincount(Z).argmax())"
      ]
    },
    {
      "cell_type": "markdown",
      "metadata": {
        "id": "qzeqN0svRD3F"
      },
      "source": [
        "#### 84. Extract all the contiguous 3x3 blocks from a random 10x10 matrix (★★★) \n",
        "(**hint**: stride\\_tricks.as\\_strided)"
      ]
    },
    {
      "cell_type": "code",
      "execution_count": 66,
      "metadata": {
        "id": "BfxyzlDYRD3G",
        "colab": {
          "base_uri": "https://localhost:8080/"
        },
        "outputId": "25f64a90-f03e-4332-952f-0fdb5e349449"
      },
      "outputs": [
        {
          "output_type": "stream",
          "name": "stdout",
          "text": [
            "[[[[1 3 1]\n",
            "   [3 4 3]\n",
            "   [0 2 3]]\n",
            "\n",
            "  [[3 1 3]\n",
            "   [4 3 1]\n",
            "   [2 3 2]]\n",
            "\n",
            "  [[1 3 1]\n",
            "   [3 1 3]\n",
            "   [3 2 2]]\n",
            "\n",
            "  [[3 1 0]\n",
            "   [1 3 0]\n",
            "   [2 2 1]]\n",
            "\n",
            "  [[1 0 4]\n",
            "   [3 0 2]\n",
            "   [2 1 3]]\n",
            "\n",
            "  [[0 4 3]\n",
            "   [0 2 1]\n",
            "   [1 3 3]]\n",
            "\n",
            "  [[4 3 1]\n",
            "   [2 1 1]\n",
            "   [3 3 2]]\n",
            "\n",
            "  [[3 1 2]\n",
            "   [1 1 4]\n",
            "   [3 2 1]]]\n",
            "\n",
            "\n",
            " [[[3 4 3]\n",
            "   [0 2 3]\n",
            "   [2 2 2]]\n",
            "\n",
            "  [[4 3 1]\n",
            "   [2 3 2]\n",
            "   [2 2 2]]\n",
            "\n",
            "  [[3 1 3]\n",
            "   [3 2 2]\n",
            "   [2 2 1]]\n",
            "\n",
            "  [[1 3 0]\n",
            "   [2 2 1]\n",
            "   [2 1 0]]\n",
            "\n",
            "  [[3 0 2]\n",
            "   [2 1 3]\n",
            "   [1 0 0]]\n",
            "\n",
            "  [[0 2 1]\n",
            "   [1 3 3]\n",
            "   [0 0 2]]\n",
            "\n",
            "  [[2 1 1]\n",
            "   [3 3 2]\n",
            "   [0 2 2]]\n",
            "\n",
            "  [[1 1 4]\n",
            "   [3 2 1]\n",
            "   [2 2 3]]]\n",
            "\n",
            "\n",
            " [[[0 2 3]\n",
            "   [2 2 2]\n",
            "   [4 4 4]]\n",
            "\n",
            "  [[2 3 2]\n",
            "   [2 2 2]\n",
            "   [4 4 0]]\n",
            "\n",
            "  [[3 2 2]\n",
            "   [2 2 1]\n",
            "   [4 0 1]]\n",
            "\n",
            "  [[2 2 1]\n",
            "   [2 1 0]\n",
            "   [0 1 1]]\n",
            "\n",
            "  [[2 1 3]\n",
            "   [1 0 0]\n",
            "   [1 1 3]]\n",
            "\n",
            "  [[1 3 3]\n",
            "   [0 0 2]\n",
            "   [1 3 1]]\n",
            "\n",
            "  [[3 3 2]\n",
            "   [0 2 2]\n",
            "   [3 1 0]]\n",
            "\n",
            "  [[3 2 1]\n",
            "   [2 2 3]\n",
            "   [1 0 4]]]\n",
            "\n",
            "\n",
            " [[[2 2 2]\n",
            "   [4 4 4]\n",
            "   [2 0 4]]\n",
            "\n",
            "  [[2 2 2]\n",
            "   [4 4 0]\n",
            "   [0 4 1]]\n",
            "\n",
            "  [[2 2 1]\n",
            "   [4 0 1]\n",
            "   [4 1 3]]\n",
            "\n",
            "  [[2 1 0]\n",
            "   [0 1 1]\n",
            "   [1 3 1]]\n",
            "\n",
            "  [[1 0 0]\n",
            "   [1 1 3]\n",
            "   [3 1 1]]\n",
            "\n",
            "  [[0 0 2]\n",
            "   [1 3 1]\n",
            "   [1 1 1]]\n",
            "\n",
            "  [[0 2 2]\n",
            "   [3 1 0]\n",
            "   [1 1 2]]\n",
            "\n",
            "  [[2 2 3]\n",
            "   [1 0 4]\n",
            "   [1 2 3]]]\n",
            "\n",
            "\n",
            " [[[4 4 4]\n",
            "   [2 0 4]\n",
            "   [2 4 2]]\n",
            "\n",
            "  [[4 4 0]\n",
            "   [0 4 1]\n",
            "   [4 2 4]]\n",
            "\n",
            "  [[4 0 1]\n",
            "   [4 1 3]\n",
            "   [2 4 2]]\n",
            "\n",
            "  [[0 1 1]\n",
            "   [1 3 1]\n",
            "   [4 2 4]]\n",
            "\n",
            "  [[1 1 3]\n",
            "   [3 1 1]\n",
            "   [2 4 4]]\n",
            "\n",
            "  [[1 3 1]\n",
            "   [1 1 1]\n",
            "   [4 4 4]]\n",
            "\n",
            "  [[3 1 0]\n",
            "   [1 1 2]\n",
            "   [4 4 1]]\n",
            "\n",
            "  [[1 0 4]\n",
            "   [1 2 3]\n",
            "   [4 1 0]]]\n",
            "\n",
            "\n",
            " [[[2 0 4]\n",
            "   [2 4 2]\n",
            "   [4 4 3]]\n",
            "\n",
            "  [[0 4 1]\n",
            "   [4 2 4]\n",
            "   [4 3 4]]\n",
            "\n",
            "  [[4 1 3]\n",
            "   [2 4 2]\n",
            "   [3 4 2]]\n",
            "\n",
            "  [[1 3 1]\n",
            "   [4 2 4]\n",
            "   [4 2 1]]\n",
            "\n",
            "  [[3 1 1]\n",
            "   [2 4 4]\n",
            "   [2 1 0]]\n",
            "\n",
            "  [[1 1 1]\n",
            "   [4 4 4]\n",
            "   [1 0 1]]\n",
            "\n",
            "  [[1 1 2]\n",
            "   [4 4 1]\n",
            "   [0 1 3]]\n",
            "\n",
            "  [[1 2 3]\n",
            "   [4 1 0]\n",
            "   [1 3 1]]]\n",
            "\n",
            "\n",
            " [[[2 4 2]\n",
            "   [4 4 3]\n",
            "   [2 4 0]]\n",
            "\n",
            "  [[4 2 4]\n",
            "   [4 3 4]\n",
            "   [4 0 3]]\n",
            "\n",
            "  [[2 4 2]\n",
            "   [3 4 2]\n",
            "   [0 3 4]]\n",
            "\n",
            "  [[4 2 4]\n",
            "   [4 2 1]\n",
            "   [3 4 0]]\n",
            "\n",
            "  [[2 4 4]\n",
            "   [2 1 0]\n",
            "   [4 0 3]]\n",
            "\n",
            "  [[4 4 4]\n",
            "   [1 0 1]\n",
            "   [0 3 0]]\n",
            "\n",
            "  [[4 4 1]\n",
            "   [0 1 3]\n",
            "   [3 0 2]]\n",
            "\n",
            "  [[4 1 0]\n",
            "   [1 3 1]\n",
            "   [0 2 3]]]\n",
            "\n",
            "\n",
            " [[[4 4 3]\n",
            "   [2 4 0]\n",
            "   [1 2 1]]\n",
            "\n",
            "  [[4 3 4]\n",
            "   [4 0 3]\n",
            "   [2 1 4]]\n",
            "\n",
            "  [[3 4 2]\n",
            "   [0 3 4]\n",
            "   [1 4 2]]\n",
            "\n",
            "  [[4 2 1]\n",
            "   [3 4 0]\n",
            "   [4 2 1]]\n",
            "\n",
            "  [[2 1 0]\n",
            "   [4 0 3]\n",
            "   [2 1 3]]\n",
            "\n",
            "  [[1 0 1]\n",
            "   [0 3 0]\n",
            "   [1 3 2]]\n",
            "\n",
            "  [[0 1 3]\n",
            "   [3 0 2]\n",
            "   [3 2 1]]\n",
            "\n",
            "  [[1 3 1]\n",
            "   [0 2 3]\n",
            "   [2 1 2]]]]\n"
          ]
        }
      ],
      "source": [
        "Z = np.random.randint(0,5,(10,10))\n",
        "n = 3\n",
        "i = 1 + (Z.shape[0]-3)\n",
        "j = 1 + (Z.shape[1]-3)\n",
        "C = stride_tricks.as_strided(Z, shape=(i, j, n, n), strides=Z.strides + Z.strides)\n",
        "print(C)"
      ]
    },
    {
      "cell_type": "markdown",
      "metadata": {
        "id": "Haf-xQHPRD3G"
      },
      "source": [
        "#### 85. Create a 2D array subclass such that Z\\[i,j\\] == Z\\[j,i\\] (★★★) \n",
        "(**hint**: class method)"
      ]
    },
    {
      "cell_type": "code",
      "execution_count": 67,
      "metadata": {
        "id": "js0H1LQHRD3H",
        "colab": {
          "base_uri": "https://localhost:8080/"
        },
        "outputId": "ba31a031-6eed-47e4-eab3-86224a20ab05"
      },
      "outputs": [
        {
          "output_type": "stream",
          "name": "stdout",
          "text": [
            "[[ 9 13  8 11  8]\n",
            " [13  2 17  4 10]\n",
            " [ 8 17  1 42  8]\n",
            " [11  4 42  4  5]\n",
            " [ 8 10  8  5  6]]\n"
          ]
        }
      ],
      "source": [
        "class Symetric(np.ndarray):\n",
        "    def __setitem__(self, index, value):\n",
        "        i,j = index\n",
        "        super(Symetric, self).__setitem__((i,j), value)\n",
        "        super(Symetric, self).__setitem__((j,i), value)\n",
        "\n",
        "def symetric(Z):\n",
        "    return np.asarray(Z + Z.T - np.diag(Z.diagonal())).view(Symetric)\n",
        "\n",
        "S = symetric(np.random.randint(0,10,(5,5)))\n",
        "S[2,3] = 42\n",
        "print(S)"
      ]
    },
    {
      "cell_type": "markdown",
      "metadata": {
        "id": "GAORXcV-RD3H"
      },
      "source": [
        "#### 86. Consider a set of p matrices wich shape (n,n) and a set of p vectors with shape (n,1). How to compute the sum of of the p matrix products at once? (result has shape (n,1)) (★★★) \n",
        "(**hint**: np.tensordot)"
      ]
    },
    {
      "cell_type": "code",
      "execution_count": 70,
      "metadata": {
        "id": "BpZmnNHmRD3I",
        "colab": {
          "base_uri": "https://localhost:8080/"
        },
        "outputId": "10ad4f0d-903c-4f58-dd7d-24453bef5911"
      },
      "outputs": [
        {
          "output_type": "stream",
          "name": "stdout",
          "text": [
            "[[200.]\n",
            " [200.]\n",
            " [200.]\n",
            " [200.]\n",
            " [200.]\n",
            " [200.]\n",
            " [200.]\n",
            " [200.]\n",
            " [200.]\n",
            " [200.]\n",
            " [200.]\n",
            " [200.]\n",
            " [200.]\n",
            " [200.]\n",
            " [200.]\n",
            " [200.]\n",
            " [200.]\n",
            " [200.]\n",
            " [200.]\n",
            " [200.]]\n"
          ]
        }
      ],
      "source": [
        "p, n = 10, 20\n",
        "M = np.ones((p,n,n))\n",
        "V = np.ones((p,n,1))\n",
        "S = np.tensordot(M, V, axes=[[0, 2], [0, 1]])\n",
        "print(S)"
      ]
    },
    {
      "cell_type": "markdown",
      "metadata": {
        "id": "nro3PzVYRD3I"
      },
      "source": [
        "#### 87. Consider a 16x16 array, how to get the block-sum (block size is 4x4)? (★★★) \n",
        "(**hint**: np.add.reduceat)"
      ]
    },
    {
      "cell_type": "code",
      "execution_count": 69,
      "metadata": {
        "id": "If8QxetURD3J",
        "colab": {
          "base_uri": "https://localhost:8080/"
        },
        "outputId": "c6992703-eb9b-4857-d4f7-327785e3c00b"
      },
      "outputs": [
        {
          "output_type": "stream",
          "name": "stdout",
          "text": [
            "[[16. 16. 16. 16.]\n",
            " [16. 16. 16. 16.]\n",
            " [16. 16. 16. 16.]\n",
            " [16. 16. 16. 16.]]\n"
          ]
        }
      ],
      "source": [
        "Z = np.ones((16,16))\n",
        "k = 4\n",
        "S = np.add.reduceat(np.add.reduceat(Z, np.arange(0, Z.shape[0], k), axis=0),\n",
        "                                       np.arange(0, Z.shape[1], k), axis=1)\n",
        "print(S)"
      ]
    },
    {
      "cell_type": "markdown",
      "metadata": {
        "id": "FSKbtuFCRD3J"
      },
      "source": [
        "#### 88. How to implement the Game of Life using numpy arrays? (★★★)"
      ]
    },
    {
      "cell_type": "code",
      "execution_count": 71,
      "metadata": {
        "id": "9TMRGKY4RD3J",
        "colab": {
          "base_uri": "https://localhost:8080/"
        },
        "outputId": "4c0867aa-efe5-4414-abca-3193d6981380"
      },
      "outputs": [
        {
          "output_type": "stream",
          "name": "stdout",
          "text": [
            "[[0 0 0 ... 0 0 0]\n",
            " [0 0 0 ... 0 0 0]\n",
            " [0 0 0 ... 0 0 0]\n",
            " ...\n",
            " [0 0 0 ... 0 0 0]\n",
            " [0 0 0 ... 0 0 0]\n",
            " [0 0 0 ... 0 0 0]]\n"
          ]
        }
      ],
      "source": [
        "def iterate(Z):\n",
        "    # Count neighbours\n",
        "    N = (Z[0:-2,0:-2] + Z[0:-2,1:-1] + Z[0:-2,2:] +\n",
        "         Z[1:-1,0:-2]                + Z[1:-1,2:] +\n",
        "         Z[2:  ,0:-2] + Z[2:  ,1:-1] + Z[2:  ,2:])\n",
        "\n",
        "    # Apply rules\n",
        "    birth = (N==3) & (Z[1:-1,1:-1]==0)\n",
        "    survive = ((N==2) | (N==3)) & (Z[1:-1,1:-1]==1)\n",
        "    Z[...] = 0\n",
        "    Z[1:-1,1:-1][birth | survive] = 1\n",
        "    return Z\n",
        "\n",
        "Z = np.random.randint(0,2,(50,50))\n",
        "for i in range(100): Z = iterate(Z)\n",
        "print(Z)"
      ]
    },
    {
      "cell_type": "markdown",
      "metadata": {
        "id": "Xb0RbdT2RD3K"
      },
      "source": [
        "#### 89. How to get the n largest values of an array (★★★) \n",
        "(**hint**: np.argsort | np.argpartition)"
      ]
    },
    {
      "cell_type": "code",
      "execution_count": 73,
      "metadata": {
        "id": "Eo3amu3_RD3K",
        "colab": {
          "base_uri": "https://localhost:8080/"
        },
        "outputId": "783ad169-89a1-48b2-f1fc-12925b0e83ca"
      },
      "outputs": [
        {
          "output_type": "stream",
          "name": "stdout",
          "text": [
            "[9995 9996 9997 9998 9999]\n",
            "\n",
            "\n",
            "[9999 9998 9997 9996 9995]\n"
          ]
        }
      ],
      "source": [
        "Z = np.arange(10000)\n",
        "np.random.shuffle(Z)\n",
        "n = 5\n",
        "\n",
        "\n",
        "print (Z[np.argsort(Z)[-n:]])\n",
        "print(\"\\n\")\n",
        "print (Z[np.argpartition(-Z,n)[:n]])"
      ]
    },
    {
      "cell_type": "markdown",
      "metadata": {
        "id": "cB2h3toGRD3K"
      },
      "source": [
        "#### 90. Given an arbitrary number of vectors, build the cartesian product (every combinations of every item) (★★★) \n",
        "(**hint**: np.indices)"
      ]
    },
    {
      "cell_type": "code",
      "execution_count": 74,
      "metadata": {
        "scrolled": true,
        "id": "NpkULgMnRD3L",
        "colab": {
          "base_uri": "https://localhost:8080/"
        },
        "outputId": "71261916-044d-4d54-cce3-078570f6284b"
      },
      "outputs": [
        {
          "output_type": "stream",
          "name": "stdout",
          "text": [
            "[[1 4 6]\n",
            " [1 4 7]\n",
            " [1 5 6]\n",
            " [1 5 7]\n",
            " [2 4 6]\n",
            " [2 4 7]\n",
            " [2 5 6]\n",
            " [2 5 7]\n",
            " [3 4 6]\n",
            " [3 4 7]\n",
            " [3 5 6]\n",
            " [3 5 7]]\n"
          ]
        }
      ],
      "source": [
        "def cartesian(arrays):\n",
        "    arrays = [np.asarray(a) for a in arrays]\n",
        "    shape = (len(x) for x in arrays)\n",
        "\n",
        "    ix = np.indices(shape, dtype=int)\n",
        "    ix = ix.reshape(len(arrays), -1).T\n",
        "\n",
        "    for n, arr in enumerate(arrays):\n",
        "        ix[:, n] = arrays[n][ix[:, n]]\n",
        "\n",
        "    return ix\n",
        "\n",
        "print (cartesian(([1, 2, 3], [4, 5], [6, 7])))"
      ]
    },
    {
      "cell_type": "markdown",
      "metadata": {
        "id": "MgognNFMRD3L"
      },
      "source": [
        "#### 91. How to create a record array from a regular array? (★★★) \n",
        "(**hint**: np.core.records.fromarrays)"
      ]
    },
    {
      "cell_type": "code",
      "execution_count": 75,
      "metadata": {
        "id": "HL94hvPhRD3M",
        "colab": {
          "base_uri": "https://localhost:8080/"
        },
        "outputId": "9f14fa63-42fe-4abb-991e-6b5a26333531"
      },
      "outputs": [
        {
          "output_type": "stream",
          "name": "stdout",
          "text": [
            "[(b'Hello', 2.5, 3) (b'World', 3.6, 2)]\n"
          ]
        }
      ],
      "source": [
        "Z = np.array([(\"Hello\", 2.5, 3),\n",
        "              (\"World\", 3.6, 2)])\n",
        "R = np.core.records.fromarrays(Z.T,\n",
        "                               names='col1, col2, col3',\n",
        "                               formats = 'S8, f8, i8')\n",
        "print(R)"
      ]
    },
    {
      "cell_type": "markdown",
      "metadata": {
        "id": "eMLYD7VURD3M"
      },
      "source": [
        "#### 92. Consider a large vector Z, compute Z to the power of 3 using 3 different methods (★★★) \n",
        "(**hint**: np.power, \\*, np.einsum)"
      ]
    },
    {
      "cell_type": "code",
      "execution_count": 78,
      "metadata": {
        "id": "1Lihtjs2RD3M",
        "colab": {
          "base_uri": "https://localhost:8080/"
        },
        "outputId": "862120c9-23d6-44ad-a56b-70e9c623cef3"
      },
      "outputs": [
        {
          "output_type": "stream",
          "name": "stdout",
          "text": [
            "1 loop, best of 5: 3.8 s per loop\n",
            "10 loops, best of 5: 146 ms per loop\n",
            "10 loops, best of 5: 128 ms per loop\n"
          ]
        }
      ],
      "source": [
        "x = np.random.rand(int(5e7))\n",
        "\n",
        "%timeit np.power(x,3)\n",
        "%timeit x*x*x\n",
        "%timeit np.einsum('i,i,i->i',x,x,x)"
      ]
    },
    {
      "cell_type": "markdown",
      "metadata": {
        "id": "X7CvzsJJRD3N"
      },
      "source": [
        "#### 93. Consider two arrays A and B of shape (8,3) and (2,2). How to find rows of A that contain elements of each row of B regardless of the order of the elements in B? (★★★) \n",
        "(**hint**: np.where)"
      ]
    },
    {
      "cell_type": "code",
      "execution_count": 79,
      "metadata": {
        "id": "43yot7ACRD3N",
        "colab": {
          "base_uri": "https://localhost:8080/"
        },
        "outputId": "15e5b392-d270-4c7a-81b0-60e04e7c9f3d"
      },
      "outputs": [
        {
          "output_type": "stream",
          "name": "stdout",
          "text": [
            "[1 3 4 5 6]\n"
          ]
        }
      ],
      "source": [
        "A = np.random.randint(0,5,(8,3))\n",
        "B = np.random.randint(0,5,(2,2))\n",
        "\n",
        "C = (A[..., np.newaxis, np.newaxis] == B)\n",
        "rows = np.where(C.any((3,1)).all(1))[0]\n",
        "print(rows)"
      ]
    },
    {
      "cell_type": "markdown",
      "metadata": {
        "id": "bb7M_QE1RD3N"
      },
      "source": [
        "#### 94. Considering a 10x3 matrix, extract rows with unequal values (e.g. \\[2,2,3\\]) (★★★)"
      ]
    },
    {
      "cell_type": "code",
      "execution_count": 84,
      "metadata": {
        "id": "2oXBepWlRD3O",
        "colab": {
          "base_uri": "https://localhost:8080/"
        },
        "outputId": "438cbc14-81d8-44d5-e384-fbccd2c5d3d3"
      },
      "outputs": [
        {
          "output_type": "stream",
          "name": "stdout",
          "text": [
            "[[0 3 4]\n",
            " [3 1 0]\n",
            " [2 3 0]\n",
            " [0 4 2]\n",
            " [4 3 0]\n",
            " [3 1 3]\n",
            " [4 1 0]\n",
            " [2 2 4]\n",
            " [1 2 4]\n",
            " [0 2 4]]\n",
            "\n",
            "\n",
            "[[0 3 4]\n",
            " [3 1 0]\n",
            " [2 3 0]\n",
            " [0 4 2]\n",
            " [4 3 0]\n",
            " [3 1 3]\n",
            " [4 1 0]\n",
            " [2 2 4]\n",
            " [1 2 4]\n",
            " [0 2 4]]\n",
            "\n",
            "\n",
            "[[0 3 4]\n",
            " [3 1 0]\n",
            " [2 3 0]\n",
            " [0 4 2]\n",
            " [4 3 0]\n",
            " [3 1 3]\n",
            " [4 1 0]\n",
            " [2 2 4]\n",
            " [1 2 4]\n",
            " [0 2 4]]\n"
          ]
        }
      ],
      "source": [
        "Z = np.random.randint(0,5,(10,3))\n",
        "print(Z)\n",
        "print(\"\\n\")\n",
        "E = np.all(Z[:,1:] == Z[:,:-1], axis=1)\n",
        "U = Z[~E]\n",
        "print(U)\n",
        "print(\"\\n\")\n",
        "x = Z[Z.max(axis=1) != Z.min(axis=1),:]\n",
        "print(x)\n"
      ]
    },
    {
      "cell_type": "markdown",
      "metadata": {
        "id": "epJOHTHPRD3O"
      },
      "source": [
        "#### 95. Convert a vector of ints into a matrix binary representation (★★★) \n",
        "(**hint**: np.unpackbits)"
      ]
    },
    {
      "cell_type": "code",
      "execution_count": 86,
      "metadata": {
        "id": "18dgZcMbRD3O",
        "colab": {
          "base_uri": "https://localhost:8080/"
        },
        "outputId": "9f54fff0-0718-4631-e1f6-a6a2415c4d83"
      },
      "outputs": [
        {
          "output_type": "stream",
          "name": "stdout",
          "text": [
            "[[0 0 0 0 0 0 0 0]\n",
            " [0 0 0 0 0 0 0 1]\n",
            " [0 0 0 0 0 0 1 0]\n",
            " [0 0 0 0 0 0 1 1]\n",
            " [0 0 0 0 1 1 1 1]\n",
            " [0 0 0 1 0 0 0 0]\n",
            " [0 0 1 0 0 0 0 0]\n",
            " [0 1 0 0 0 0 0 0]\n",
            " [1 0 0 0 0 0 0 0]]\n"
          ]
        }
      ],
      "source": [
        "I = np.array([0, 1, 2, 3, 15, 16, 32, 64, 128], dtype=np.uint8)\n",
        "print(np.unpackbits(I[:, np.newaxis], axis=1))"
      ]
    },
    {
      "cell_type": "markdown",
      "metadata": {
        "id": "HvjF1RjoRD3P"
      },
      "source": [
        "#### 96. Given a two dimensional array, how to extract unique rows? (★★★) \n",
        "(**hint**: np.ascontiguousarray)"
      ]
    },
    {
      "cell_type": "code",
      "execution_count": 87,
      "metadata": {
        "id": "byKMlxk7RD3P",
        "colab": {
          "base_uri": "https://localhost:8080/"
        },
        "outputId": "89314bc7-e2cb-4664-d76f-8265d2eb87d2"
      },
      "outputs": [
        {
          "output_type": "stream",
          "name": "stdout",
          "text": [
            "[[0 0 0]\n",
            " [0 0 1]\n",
            " [0 1 0]\n",
            " [1 1 0]\n",
            " [1 1 1]]\n"
          ]
        }
      ],
      "source": [
        "Z = np.random.randint(0,2,(6,3))\n",
        "T = np.ascontiguousarray(Z).view(np.dtype((np.void, Z.dtype.itemsize * Z.shape[1])))\n",
        "_, idx = np.unique(T, return_index=True)\n",
        "uZ = Z[idx]\n",
        "print(uZ)"
      ]
    },
    {
      "cell_type": "markdown",
      "metadata": {
        "id": "vKykEuyDRD3Q"
      },
      "source": [
        "#### 97. Considering 2 vectors A & B, write the einsum equivalent of inner, outer, sum, and mul function (★★★) \n",
        "(**hint**: np.einsum)"
      ]
    },
    {
      "cell_type": "code",
      "execution_count": 89,
      "metadata": {
        "id": "uHO1RI5tRD3Q",
        "colab": {
          "base_uri": "https://localhost:8080/"
        },
        "outputId": "78a03393-658b-4779-ebaf-d374c79bf5e1"
      },
      "outputs": [
        {
          "output_type": "stream",
          "name": "stdout",
          "text": [
            "5.492838369051681\n",
            "[0.78119063 0.04821045 0.05757398 0.04608697 0.3425145  0.62820698\n",
            " 0.17804856 0.13805086 0.10856298 0.37159569]\n",
            "2.7000416073441498\n",
            "[[0.78119063 0.22559634 0.12486245 0.23045726 0.82237219 0.65361637\n",
            "  0.23642767 0.49436615 0.14452702 0.75855737]\n",
            " [0.16694223 0.04821045 0.02668339 0.04924924 0.17574282 0.13967932\n",
            "  0.05052513 0.10564718 0.03088575 0.16210545]\n",
            " [0.36020637 0.10402229 0.05757398 0.10626366 0.37919516 0.30138199\n",
            "  0.10901661 0.22795184 0.06664129 0.3497702 ]\n",
            " [0.15622295 0.04511488 0.02497006 0.04608697 0.16445846 0.13071057\n",
            "  0.04728094 0.09886362 0.0289026  0.15169673]\n",
            " [0.32536256 0.09395991 0.05200468 0.09598446 0.3425145  0.27222843\n",
            "  0.09847112 0.20590139 0.06019489 0.3159359 ]\n",
            " [0.75082178 0.21682626 0.12000841 0.22149822 0.79040241 0.62820698\n",
            "  0.22723653 0.47514763 0.13890852 0.72906839]\n",
            " [0.58829776 0.16989172 0.09403121 0.17355238 0.6193107  0.49222434\n",
            "  0.17804856 0.37229645 0.10884017 0.57125314]\n",
            " [0.21814608 0.06299737 0.03486761 0.06435478 0.22964595 0.1825212\n",
            "  0.066022   0.13805086 0.04035891 0.21182578]\n",
            " [0.5867995  0.16945904 0.09379173 0.17311038 0.61773346 0.49097077\n",
            "  0.17759512 0.3713483  0.10856298 0.56979829]\n",
            " [0.38268308 0.11051323 0.06116656 0.11289446 0.40285676 0.32018808\n",
            "  0.11581919 0.24217592 0.07079968 0.37159569]]\n"
          ]
        }
      ],
      "source": [
        "A = np.random.uniform(0,1,10)\n",
        "B = np.random.uniform(0,1,10)\n",
        "\n",
        "c=np.einsum('i->', A)\n",
        "print(c)       # np.sum(A)\n",
        "d=np.einsum('i,i->i', A, B) # A * B\n",
        "print(d)\n",
        "e=np.einsum('i,i', A, B)    # np.inner(A, B)\n",
        "print(e)\n",
        "f=np.einsum('i,j->ij', A, B)    # np.outer(A, B)\n",
        "print(f)"
      ]
    },
    {
      "cell_type": "markdown",
      "metadata": {
        "id": "A495WwwHRD3Q"
      },
      "source": [
        "#### 98. Considering a path described by two vectors (X,Y), how to sample it using equidistant samples (★★★)? \n",
        "(**hint**: np.cumsum, np.interp)"
      ]
    },
    {
      "cell_type": "code",
      "execution_count": 93,
      "metadata": {
        "collapsed": true,
        "id": "jgjuQcdoRD3Q",
        "colab": {
          "base_uri": "https://localhost:8080/"
        },
        "outputId": "51540663-78aa-4698-b932-01669e085b06"
      },
      "outputs": [
        {
          "output_type": "stream",
          "name": "stdout",
          "text": [
            "[  0.           2.48788858   4.97577716   7.46366574   9.95155432\n",
            "  12.43944289  14.92733147  17.41522005  19.90310863  22.39099721\n",
            "  24.87888579  27.36677437  29.85466295  32.34255152  34.8304401\n",
            "  37.31832868  39.80621726  42.29410584  44.78199442  47.269883\n",
            "  49.75777158  52.24566016  54.73354873  57.22143731  59.70932589\n",
            "  62.19721447  64.68510305  67.17299163  69.66088021  72.14876879\n",
            "  74.63665736  77.12454594  79.61243452  82.1003231   84.58821168\n",
            "  87.07610026  89.56398884  92.05187742  94.539766    97.02765457\n",
            "  99.51554315 102.00343173 104.49132031 106.97920889 109.46709747\n",
            " 111.95498605 114.44287463 116.9307632  119.41865178 121.90654036\n",
            " 124.39442894 126.88231752 129.3702061  131.85809468 134.34598326\n",
            " 136.83387184 139.32176041 141.80964899 144.29753757 146.78542615\n",
            " 149.27331473 151.76120331 154.24909189 156.73698047 159.22486904\n",
            " 161.71275762 164.2006462  166.68853478 169.17642336 171.66431194\n",
            " 174.15220052 176.6400891  179.12797768 181.61586625 184.10375483\n",
            " 186.59164341 189.07953199 191.56742057 194.05530915 196.54319773\n",
            " 199.03108631 201.51897488 204.00686346 206.49475204 208.98264062\n",
            " 211.4705292  213.95841778 216.44630636 218.93419494 221.42208352\n",
            " 223.90997209 226.39786067 228.88574925 231.37363783 233.86152641\n",
            " 236.34941499 238.83730357 241.32519215 243.81308072 246.3009693\n",
            " 248.78885788 251.27674646 253.76463504 256.25252362 258.7404122\n",
            " 261.22830078 263.71618936 266.20407793 268.69196651 271.17985509\n",
            " 273.66774367 276.15563225 278.64352083 281.13140941 283.61929799\n",
            " 286.10718656 288.59507514 291.08296372 293.5708523  296.05874088\n",
            " 298.54662946 301.03451804 303.52240662 306.0102952  308.49818377\n",
            " 310.98607235 313.47396093 315.96184951 318.44973809 320.93762667\n",
            " 323.42551525 325.91340383 328.4012924  330.88918098 333.37706956\n",
            " 335.86495814 338.35284672 340.8407353  343.32862388 345.81651246\n",
            " 348.30440104 350.79228961 353.28017819 355.76806677 358.25595535\n",
            " 360.74384393 363.23173251 365.71962109 368.20750967 370.69539824\n",
            " 373.18328682 375.6711754  378.15906398 380.64695256 383.13484114\n",
            " 385.62272972 388.1106183  390.59850688 393.08639545 395.57428403\n",
            " 398.06217261 400.55006119 403.03794977 405.52583835 408.01372693\n",
            " 410.50161551 412.98950408 415.47739266 417.96528124 420.45316982\n",
            " 422.9410584  425.42894698 427.91683556 430.40472414 432.89261272\n",
            " 435.38050129 437.86838987 440.35627845 442.84416703 445.33205561\n",
            " 447.81994419 450.30783277 452.79572135 455.28360992 457.7714985\n",
            " 460.25938708 462.74727566 465.23516424 467.72305282 470.2109414\n",
            " 472.69882998 475.18671856 477.67460713 480.16249571 482.65038429\n",
            " 485.13827287 487.62616145 490.11405003 492.60193861 495.08982719]\n",
            "[ 0.00000000e+00 -3.73131229e-01 -2.59817608e+00 -3.26212050e+00\n",
            " -2.18442687e+00 -2.98929946e-02  2.42923642e+00  4.54913599e+00\n",
            "  5.92318348e+00  6.35117933e+00  5.82369277e+00  4.46259540e+00\n",
            "  2.47320794e+00  1.09577220e-01 -2.36575300e+00 -4.71261671e+00\n",
            " -6.72701769e+00 -8.25541575e+00 -9.18486120e+00 -9.46381505e+00\n",
            " -9.11085788e+00 -8.12875279e+00 -6.63306046e+00 -4.69271059e+00\n",
            " -2.44736165e+00 -2.05444585e-02  2.46101146e+00  4.86841760e+00\n",
            "  7.08937968e+00  9.02539126e+00  1.05948609e+01  1.17357250e+01\n",
            "  1.24068974e+01  1.25885805e+01  1.22815267e+01  1.15053927e+01\n",
            "  1.02963689e+01  8.70429550e+00  6.78948686e+00  4.61716636e+00\n",
            "  2.25853448e+00 -1.98731680e-01 -2.68040566e+00 -5.11543300e+00\n",
            " -7.41973991e+00 -9.53891040e+00 -1.14237629e+01 -1.29919305e+01\n",
            " -1.42355069e+01 -1.51243232e+01 -1.56061571e+01 -1.57219415e+01\n",
            " -1.54217066e+01 -1.47579136e+01 -1.37255236e+01 -1.23634834e+01\n",
            " -1.07024632e+01 -8.78327367e+00 -6.65029558e+00 -4.35514246e+00\n",
            " -1.94290275e+00  5.28038914e-01  3.00985904e+00  5.45450275e+00\n",
            "  7.80093594e+00  1.00179639e+01  1.20595602e+01  1.38732623e+01\n",
            "  1.54564938e+01  1.67497894e+01  1.77435802e+01  1.84439878e+01\n",
            "  1.87990820e+01  1.88271003e+01  1.85472755e+01  1.79378850e+01\n",
            "  1.70105456e+01  1.58085777e+01  1.43501808e+01  1.26222364e+01\n",
            "  1.06905445e+01  8.58498641e+00  6.33562529e+00  3.96179025e+00\n",
            "  1.51802643e+00 -9.61699044e-01 -3.44349301e+00 -5.88951759e+00\n",
            " -8.26006582e+00 -1.05270865e+01 -1.26610269e+01 -1.46343020e+01\n",
            " -1.64206033e+01 -1.79708499e+01 -1.92894561e+01 -2.03605967e+01\n",
            " -2.11716587e+01 -2.17133504e+01 -2.19797677e+01 -2.19626531e+01\n",
            " -2.16476737e+01 -2.10622561e+01 -2.02145809e+01 -1.91158467e+01\n",
            " -1.77800930e+01 -1.62239930e+01 -1.44666197e+01 -1.25291882e+01\n",
            " -1.04347777e+01 -8.20773276e+00 -5.86978851e+00 -3.45563299e+00\n",
            " -9.92556869e-01  1.49191203e+00  3.97031733e+00  6.41557503e+00\n",
            "  8.80126359e+00  1.11019001e+01  1.32931995e+01  1.53523150e+01\n",
            "  1.72580567e+01  1.89910866e+01  2.05340895e+01  2.18719167e+01\n",
            "  2.29917039e+01  2.38829603e+01  2.45376309e+01  2.49501314e+01\n",
            "  2.51173551e+01  2.50386548e+01  2.47157984e+01  2.41529019e+01\n",
            "  2.33563391e+01  2.23346314e+01  2.10983193e+01  1.96598169e+01\n",
            "  1.80332532e+01  1.62343003e+01  1.42799934e+01  1.21885425e+01\n",
            "  9.97914013e+00  7.67176574e+00  5.28699023e+00  2.84441658e+00\n",
            "  3.68190102e-01 -2.11846865e+00 -4.59426061e+00 -7.03829202e+00\n",
            " -9.43024209e+00 -1.17505186e+01 -1.39803999e+01 -1.61021634e+01\n",
            " -1.80991985e+01 -1.99561058e+01 -2.16587804e+01 -2.31850397e+01\n",
            " -2.45166960e+01 -2.56568097e+01 -2.65976904e+01 -2.73332424e+01\n",
            " -2.78589555e+01 -2.81718833e+01 -2.82706110e+01 -2.81552119e+01\n",
            " -2.78066635e+01 -2.72341677e+01 -2.64578863e+01 -2.54844118e+01\n",
            " -2.43214986e+01 -2.29779690e+01 -2.14636172e+01 -1.97837046e+01\n",
            " -1.79341987e+01 -1.59545785e+01 -1.38585628e+01 -1.16602783e+01\n",
            " -9.37416511e+00 -7.01488958e+00 -4.59184632e+00 -2.12995331e+00\n",
            "  3.50691071e-01  2.83498918e+00  5.30813450e+00  7.75565814e+00\n",
            "  1.01522531e+01  1.24813227e+01  1.47337756e+01  1.68973642e+01\n",
            "  1.89604991e+01  2.09071945e+01  2.26943693e+01  2.43420179e+01\n",
            "  2.58422998e+01  2.71881423e+01  2.83731992e+01  2.93376609e+01\n",
            "  3.01222558e+01  3.07280750e+01  3.11531219e+01  3.13960177e+01]\n",
            "[ 0.00000000e+00  1.74026724e+00  9.81816584e-01 -1.34251287e+00\n",
            " -3.53191891e+00 -4.70449474e+00 -4.59573427e+00 -3.33831870e+00\n",
            " -1.28956083e+00  1.14234685e+00  3.55645601e+00  5.62188218e+00\n",
            "  7.09389488e+00  7.82951803e+00  7.78700678e+00  6.99685666e+00\n",
            "  5.55535240e+00  3.60417006e+00  1.30506373e+00 -1.15819722e+00\n",
            " -3.61328132e+00 -5.89130465e+00 -7.87065053e+00 -9.41689057e+00\n",
            " -1.04714836e+01 -1.09903787e+01 -1.09354306e+01 -1.03330912e+01\n",
            " -9.22690166e+00 -7.67489830e+00 -5.75257980e+00 -3.54832201e+00\n",
            " -1.15854355e+00  1.31709956e+00  3.78023622e+00  6.13780326e+00\n",
            "  8.30540149e+00  1.02098724e+01  1.17910419e+01  1.29972950e+01\n",
            "  1.37774249e+01  1.41319792e+01  1.40585758e+01  1.35636816e+01\n",
            "  1.26345244e+01  1.13409083e+01  9.72216360e+00  7.79464305e+00\n",
            "  5.64544223e+00  3.32503222e+00  8.88107041e-01 -1.59329248e+00\n",
            " -4.05992507e+00 -6.45313746e+00 -8.71327144e+00 -1.07900854e+01\n",
            " -1.26380653e+01 -1.42147006e+01 -1.54892299e+01 -1.64390858e+01\n",
            " -1.70351433e+01 -1.72938948e+01 -1.71685631e+01 -1.67219979e+01\n",
            " -1.59044166e+01 -1.47824153e+01 -1.33665280e+01 -1.16678134e+01\n",
            " -9.75246391e+00 -7.63091465e+00 -5.35345831e+00 -2.96905840e+00\n",
            " -5.09631905e-01  1.97507060e+00  4.44430515e+00  6.85344809e+00\n",
            "  9.15903461e+00  1.13337844e+01  1.33467125e+01  1.51336120e+01\n",
            "  1.66966787e+01  1.80162922e+01  1.90746708e+01  1.98127969e+01\n",
            "  2.02634499e+01  2.04221761e+01  2.02877631e+01  1.98449702e+01\n",
            "  1.90974465e+01  1.80799531e+01  1.68069397e+01  1.52959771e+01\n",
            "  1.35665801e+01  1.16227312e+01  9.51601869e+00  7.27388893e+00\n",
            "  4.92519240e+00  2.49981337e+00  2.82932820e-02 -2.45817963e+00\n",
            " -4.92460367e+00 -7.34030894e+00 -9.67635928e+00 -1.19050601e+01\n",
            " -1.40002645e+01 -1.59376556e+01 -1.76950019e+01 -1.92523833e+01\n",
            " -2.05923861e+01 -2.16995543e+01 -2.25478860e+01 -2.31432552e+01\n",
            " -2.34800725e+01 -2.35556687e+01 -2.33702741e+01 -2.29269662e+01\n",
            " -2.22315865e+01 -2.12926288e+01 -2.01211000e+01 -1.87303570e+01\n",
            " -1.71359212e+01 -1.53552740e+01 -1.34076356e+01 -1.13137308e+01\n",
            " -9.09554383e+00 -6.77606668e+00 -4.37904252e+00 -1.92870828e+00\n",
            "  5.50461201e-01  3.03400451e+00  5.49771780e+00  7.91788934e+00\n",
            "  1.02715222e+01  1.25365431e+01  1.46919953e+01  1.67182148e+01\n",
            "  1.85969872e+01  2.03116866e+01  2.18473923e+01  2.31909872e+01\n",
            "  2.43312337e+01  2.52588296e+01  2.59664444e+01  2.64391214e+01\n",
            "  2.66748505e+01  2.66796333e+01  2.64545680e+01  2.60026765e+01\n",
            "  2.53288265e+01  2.44396400e+01  2.33433894e+01  2.20498837e+01\n",
            "  2.05703459e+01  1.89172843e+01  1.71043584e+01  1.51396391e+01\n",
            "  1.30387952e+01  1.08294252e+01  8.52903617e+00  6.15551380e+00\n",
            "  3.72697869e+00  1.26164946e+00 -1.22228693e+00 -3.70679651e+00\n",
            " -6.17014862e+00 -8.59028675e+00 -1.09516293e+01 -1.32379536e+01\n",
            " -1.54338179e+01 -1.75246263e+01 -1.94966815e+01 -2.13317519e+01\n",
            " -2.29952001e+01 -2.44987532e+01 -2.58335652e+01 -2.69919481e+01\n",
            " -2.79673583e+01 -2.87543764e+01 -2.93186910e+01 -2.96679958e+01\n",
            " -2.98181354e+01 -2.97693731e+01 -2.95229769e+01 -2.90811595e+01\n",
            " -2.84133854e+01 -2.75430665e+01 -2.64934034e+01 -2.52713717e+01\n",
            " -2.38845608e+01 -2.23353782e+01 -2.06051319e+01 -1.87442619e+01\n",
            " -1.67635423e+01 -1.46739620e+01 -1.24866789e+01 -1.01933401e+01\n",
            " -7.83474328e+00 -5.42495146e+00 -2.97607515e+00 -5.00072086e-01]\n"
          ]
        }
      ],
      "source": [
        "phi = np.arange(0, 10*np.pi, 0.1)\n",
        "a = 1\n",
        "x = a*phi*np.cos(phi)\n",
        "y = a*phi*np.sin(phi)\n",
        "\n",
        "dr = (np.diff(x)**2 + np.diff(y)**2)**.5 # segment lengths\n",
        "r = np.zeros_like(x)\n",
        "r[1:] = np.cumsum(dr)                # integrate path\n",
        "r_int = np.linspace(0, r.max(), 200) # regular spaced path\n",
        "x_int = np.interp(r_int, r, x)       # integrate path\n",
        "y_int = np.interp(r_int, r, y)\n",
        "print(r_int)\n",
        "print(x_int)\n",
        "print(y_int)"
      ]
    },
    {
      "cell_type": "markdown",
      "metadata": {
        "id": "dyVgI7EIRD3Q"
      },
      "source": [
        "#### 99. Given an integer n and a 2D array X, select from X the rows which can be interpreted as draws from a multinomial distribution with n degrees, i.e., the rows which only contain integers and which sum to n. (★★★) \n",
        "(**hint**: np.logical\\_and.reduce, np.mod)"
      ]
    },
    {
      "cell_type": "code",
      "execution_count": 91,
      "metadata": {
        "id": "RY2GNKFARD3R",
        "colab": {
          "base_uri": "https://localhost:8080/"
        },
        "outputId": "91fe6d44-2f88-4830-fc2a-fff44fe10f56"
      },
      "outputs": [
        {
          "output_type": "stream",
          "name": "stdout",
          "text": [
            "[[2. 0. 1. 1.]]\n"
          ]
        }
      ],
      "source": [
        "X = np.asarray([[1.0, 0.0, 3.0, 8.0],\n",
        "                [2.0, 0.0, 1.0, 1.0],\n",
        "                [1.5, 2.5, 1.0, 0.0]])\n",
        "n = 4\n",
        "M = np.logical_and.reduce(np.mod(X, 1) == 0, axis=-1)\n",
        "M &= (X.sum(axis=-1) == n)\n",
        "print(X[M])"
      ]
    },
    {
      "cell_type": "markdown",
      "metadata": {
        "id": "IdvKPpV7RD3R"
      },
      "source": [
        "#### 100. Compute bootstrapped 95% confidence intervals for the mean of a 1D array X (i.e., resample the elements of an array with replacement N times, compute the mean of each sample, and then compute percentiles over the means). (★★★) \n",
        "(**hint**: np.percentile)"
      ]
    },
    {
      "cell_type": "code",
      "execution_count": 92,
      "metadata": {
        "id": "_JvsaZpaRD3R",
        "colab": {
          "base_uri": "https://localhost:8080/"
        },
        "outputId": "38c74749-efab-45f8-dfd8-877ac63270eb"
      },
      "outputs": [
        {
          "output_type": "stream",
          "name": "stdout",
          "text": [
            "[[2. 0. 1. 1.]]\n"
          ]
        }
      ],
      "source": [
        "X = np.asarray([[1.0, 0.0, 3.0, 8.0],\n",
        "                [2.0, 0.0, 1.0, 1.0],\n",
        "                [1.5, 2.5, 1.0, 0.0]])\n",
        "n = 4\n",
        "M = np.logical_and.reduce(np.mod(X, 1) == 0, axis=-1)\n",
        "M &= (X.sum(axis=-1) == n)\n",
        "print(X[M])"
      ]
    }
  ],
  "metadata": {
    "kernelspec": {
      "display_name": "Python 3",
      "language": "python",
      "name": "python3"
    },
    "language_info": {
      "codemirror_mode": {
        "name": "ipython",
        "version": 3
      },
      "file_extension": ".py",
      "mimetype": "text/x-python",
      "name": "python",
      "nbconvert_exporter": "python",
      "pygments_lexer": "ipython3",
      "version": "3.8.3"
    },
    "colab": {
      "name": "Copy of Numpy_tasks.ipynb",
      "provenance": [],
      "collapsed_sections": [
        "W3tTT6jaRD2T",
        "Hw2uyyJKRD2U",
        "F0ykatlgRD2V",
        "k71ekHlXRD2W",
        "jGubuhCWRD2X",
        "HC_anmUYRD2Y",
        "XsEC48McRD2Y",
        "OpfqFF0-RD2Z",
        "Vk8Xx7SSRD2Z",
        "Y1G8ezodRD2a",
        "zTUIyKVuRD2b"
      ],
      "include_colab_link": true
    }
  },
  "nbformat": 4,
  "nbformat_minor": 0
}